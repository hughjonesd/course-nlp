{
  "nbformat": 4,
  "nbformat_minor": 0,
  "metadata": {
    "colab": {
      "name": "explore-ota-svd.ipynb",
      "provenance": [],
      "collapsed_sections": [],
      "authorship_tag": "ABX9TyPxX4E08oPBwZvMUvZ1ktXY",
      "include_colab_link": true
    },
    "kernelspec": {
      "name": "python3",
      "display_name": "Python 3"
    }
  },
  "cells": [
    {
      "cell_type": "markdown",
      "metadata": {
        "id": "view-in-github",
        "colab_type": "text"
      },
      "source": [
        "<a href=\"https://colab.research.google.com/github/hughjonesd/course-nlp/blob/master/explore_ota_svd.ipynb\" target=\"_parent\"><img src=\"https://colab.research.google.com/assets/colab-badge.svg\" alt=\"Open In Colab\"/></a>"
      ]
    },
    {
      "cell_type": "markdown",
      "metadata": {
        "id": "6EhPq1bPx7TT"
      },
      "source": [
        "# Exploring SVD with the OTA data\n",
        "\n",
        "The \"OTA data\" is \"A Corpus of English Dialogues 1560-1760\".\n",
        "\n",
        "I've added it to my github fork of fastai/course-nlp.\n",
        "\n",
        "My plan:\n",
        "\n",
        "* Get the files into a format I can work with\n",
        "* Do some simple SVD\n",
        "\n",
        "I started by working on my home computer. PyCharm is available for free (even the professional version, for academics). Then I copied the\n",
        "code into a new notebook.\n",
        "\n",
        "# Looking at the data\n",
        "\n",
        "I opened one of my text files. They record English dialogues - some\n",
        "real records of e.g. trials, some from plays or language learning textbooks.\n",
        "\n",
        "The files start with some metadata. Then the dialogues. The text\n",
        "uses the following codes:\n",
        "\n",
        "    (^..........^) - font other than the basic font\n",
        "    (\\..........\\) - foreign language\n",
        "    [}..........}] - heading\n",
        "    [{..........{] - editorial emendation (i.e. a correction)\n",
        "    [\\..........\\] - editorial comment \n",
        "    [^..........^] - corpus compilers’ comment\n",
        "    [$..........$] - running text other than direct speech\n",
        "    [^...^]        - text on the line omitted\n",
        "    [^---^]        - text in the same sentence omitted\n",
        "\n",
        "I'll probably want to omit most of those, but we'll worry about that later.\n",
        "\n",
        "Text itself has lots of proper names, and lots of apostrophes, e.g.\n",
        "\"subdu'd\" for \"subdued\". Maybe lemmatization would help?\n",
        "\n",
        "# How I worked out the code\n",
        "\n",
        "Google Is Your Friend. I constantly googled for e.g. \n",
        "\"countvectorizer\", \"python file path\", \"numpy sparse array\". Links\n",
        "usually took me to documentation or to help sites. Beware of spammy\n",
        "\"tutorial websites\".\n",
        "\n"
      ]
    },
    {
      "cell_type": "code",
      "metadata": {
        "id": "Fdcgx0hLx6eh"
      },
      "source": [
        "# Imports\n",
        "\n",
        "import os\n",
        "from pathlib import Path\n",
        "from sklearn.feature_extraction.text import CountVectorizer\n",
        "import numpy as np\n",
        "from scipy import linalg\n",
        "import matplotlib.pyplot as plt"
      ],
      "execution_count": 1,
      "outputs": []
    },
    {
      "cell_type": "code",
      "metadata": {
        "id": "JAAcwqz91yau"
      },
      "source": [
        "# this clones my whole repository, including a copy of the OTA data\n",
        "# normally should be careful about exposing other people's data publicly\n",
        "# but I'm in a hurry...\n",
        "\n",
        "!git clone https://github.com/hughjonesd/course-nlp"
      ],
      "execution_count": null,
      "outputs": []
    },
    {
      "cell_type": "code",
      "metadata": {
        "colab": {
          "base_uri": "https://localhost:8080/"
        },
        "id": "Ov9h-mky0aVo",
        "outputId": "fa1e22f1-20b2-4360-ff82-1e3f00e91999"
      },
      "source": [
        "# getting a list of file paths\n",
        "\n",
        "data_folder = Path(\"course-nlp/ota_20.500.12024_2507/CEDPlain\")\n",
        "\n",
        "ced_filenames = os.listdir(data_folder)\n",
        "ced_filenames = [data_folder/fn for fn in ced_filenames]\n",
        "\n",
        "ced_filenames[0:4]"
      ],
      "execution_count": 7,
      "outputs": [
        {
          "output_type": "execute_result",
          "data": {
            "text/plain": [
              "[PosixPath('course-nlp/ota_20.500.12024_2507/CEDPlain/D1WNOTOR'),\n",
              " PosixPath('course-nlp/ota_20.500.12024_2507/CEDPlain/D5CGARRI'),\n",
              " PosixPath('course-nlp/ota_20.500.12024_2507/CEDPlain/D5CHOADL'),\n",
              " PosixPath('course-nlp/ota_20.500.12024_2507/CEDPlain/D2WPENDL')]"
            ]
          },
          "metadata": {
            "tags": []
          },
          "execution_count": 7
        }
      ]
    },
    {
      "cell_type": "markdown",
      "metadata": {
        "id": "0022Gp_22agS"
      },
      "source": [
        "# Creating the term-document matrix\n",
        "\n",
        "From the scikit-learn documentation for CountVectorizer (https://scikit-learn.org/stable/modules/generated/sklearn.feature_extraction.text.CountVectorizer.html)\n",
        "\n",
        "\"input\": If ‘filename’, the sequence passed as an argument to fit is expected to be a list\n",
        "of filenames that need reading to fetch the raw content to analyze.\n"
      ]
    },
    {
      "cell_type": "code",
      "metadata": {
        "colab": {
          "base_uri": "https://localhost:8080/"
        },
        "id": "nMh5hXIw2IF0",
        "outputId": "7d20bca9-6427-40dd-836b-46c40fcb9352"
      },
      "source": [
        "\n",
        "# I discovered the encoding was iso-8859-1 after a crash when I used the default utf8\n",
        "vectorizer = CountVectorizer(\n",
        "                input      = 'filename',\n",
        "                stop_words = 'english',\n",
        "                encoding   = 'iso-8859-1',\n",
        "             )\n",
        "\n",
        "# we use todense() here so that linalg below can get to work\n",
        "# for speed, could use scipy.sparse.linalg, but it doesn't take long anyway\n",
        "\n",
        "count_array = vectorizer.fit_transform(raw_documents = ced_filenames).todense()\n",
        "\n",
        "# let's look at the vocab\n",
        "vocab = vectorizer.get_feature_names()\n",
        "\n",
        "# hmm, that's not good... \n",
        "print(vocab[:10])\n",
        "# ok but that's better:\n",
        "print(vocab[1000:1010])\n",
        "# those words aren't lemmatized, it might help to do that first\n",
        "# but not sure how to lemmatize a file\n",
        "# possibly the \"preprocessor\" argument to CountVectorizer might help\n",
        "\n"
      ],
      "execution_count": 9,
      "outputs": [
        {
          "output_type": "stream",
          "text": [
            "['000', '10', '100', '1000', '10000', '100c1', '100c2', '101', '101c1', '101c2']\n",
            "['accomplishments', 'accomplisht', 'accompt', 'accomptant', 'accompte', 'accompted', 'accompteth', 'accompts', 'accord', 'accordance']\n"
          ],
          "name": "stdout"
        }
      ]
    },
    {
      "cell_type": "markdown",
      "metadata": {
        "id": "545e4IAR3lBA"
      },
      "source": [
        "# Running a simple SVD\n",
        "\n",
        "This is just cut-n-paste from the tutorial."
      ]
    },
    {
      "cell_type": "code",
      "metadata": {
        "colab": {
          "base_uri": "https://localhost:8080/",
          "height": 265
        },
        "id": "UhKEH0Su3kRL",
        "outputId": "fad4a328-e53a-4fd6-8ce4-4d069eabe96b"
      },
      "source": [
        "U, s, Vh = linalg.svd(count_array, full_matrices=False)\n"
      ],
      "execution_count": 10,
      "outputs": [
        {
          "output_type": "display_data",
          "data": {
            "image/png": "[encoded data removed]",
            "text/plain": [
              "<Figure size 432x288 with 1 Axes>"
            ]
          },
          "metadata": {
            "tags": [],
            "needs_background": "light"
          }
        }
      ]
    },
    {
      "cell_type": "markdown",
      "metadata": {
        "id": "uFrcLbGS3zVW"
      },
      "source": [
        "OK, what have we got?\n"
      ]
    },
    {
      "cell_type": "code",
      "metadata": {
        "colab": {
          "base_uri": "https://localhost:8080/"
        },
        "id": "X87ogBxe3xvm",
        "outputId": "a4067aa7-91b7-4fc8-b7fd-935aaec3e1df"
      },
      "source": [
        "# this is also copy-pasted\n",
        "num_top_words=15\n",
        "def show_topics(a):\n",
        "    top_words = lambda t: [vocab[i] for i in np.argsort(t)[:-num_top_words-1:-1]]\n",
        "    topic_words = ([top_words(t) for t in a])\n",
        "    return [' '.join(t) for t in topic_words]\n",
        "\n",
        "show_topics(Vh[0:10])\n",
        "\n",
        "# Some topics are clearly about trials (deponent, examinate). \n",
        "# Others look more related to \n",
        "# plays (madam, mrs, love...)"
      ],
      "execution_count": 12,
      "outputs": [
        {
          "output_type": "execute_result",
          "data": {
            "text/plain": [
              "['dampned remisson graines vnderstanded kirkham distributyng forasmuche sheadyng represente digestiou amendement rememberance dwellyng communicatyng sainct',\n",
              " 'said sir haue good shall thou come man let make hee men shee thee doe',\n",
              " 'said examinate deponent did saith came house hym elizabeth john shee sample went ad sais',\n",
              " 'sir said madam ll love mrs lady tis says self think little dear wou deponent',\n",
              " 'did rupert yes admiral mrs ships royal oak saw queen ship enemy time line shot',\n",
              " 'lord queen duke deponent mrs majesty says gen matter men child letter bed man scotish',\n",
              " 'lord gen att mohun hill did saith howard mountford mrs col examinate sidney steward shee',\n",
              " 'madam mrs says love mr men dear ll wou know man think come amoranda wife',\n",
              " 'shee duke saith examinate queen hee wife mother time letter saide scotish quoth told examinat',\n",
              " 'duke men court said law shall answer letter matter scotish king read serj god letters']"
            ]
          },
          "metadata": {
            "tags": []
          },
          "execution_count": 12
        }
      ]
    },
    {
      "cell_type": "markdown",
      "metadata": {
        "id": "WjW8PWDg4EqY"
      },
      "source": [
        "A plot of the importance of the topics, from the diagonal s matrix.\n",
        "\n",
        "This seems to show an \"elbow\", a bit like factor analysis."
      ]
    },
    {
      "cell_type": "markdown",
      "metadata": {
        "id": "KXztaRS44aPb"
      },
      "source": [
        ""
      ]
    },
    {
      "cell_type": "code",
      "metadata": {
        "id": "5mtX50lc4I54"
      },
      "source": [
        "\n",
        "plt.plot(s)"
      ],
      "execution_count": null,
      "outputs": []
    }
  ]
}