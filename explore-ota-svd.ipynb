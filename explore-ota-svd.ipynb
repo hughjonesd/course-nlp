{
  "nbformat": 4,
  "nbformat_minor": 0,
  "metadata": {
    "colab": {
      "name": "Untitled0.ipynb",
      "provenance": [],
      "collapsed_sections": [],
      "authorship_tag": "ABX9TyMeapg0ZgJQS2n3Ga988SGL"
    },
    "kernelspec": {
      "name": "python3",
      "display_name": "Python 3"
    }
  },
  "cells": [
    {
      "cell_type": "markdown",
      "metadata": {
        "id": "6EhPq1bPx7TT"
      },
      "source": [
        "# Exploring SVD with the OTA data\n",
        "\n",
        "The \"OTA data\" is \"A Corpus of English Dialogues 1560-1760\".\n",
        "\n",
        "I've added it to my github fork of fastai/course-nlp.\n",
        "\n",
        "My plan:\n",
        "\n",
        "* Get the files into a format I can work with\n",
        "* Do some simple SVD\n",
        "\n",
        "I started by working on my home computer. PyCharm is available for free (even the professional version, for academics). Then I copied the\n",
        "code into a new notebook."
      ]
    },
    {
      "cell_type": "code",
      "metadata": {
        "id": "Fdcgx0hLx6eh"
      },
      "source": [
        ""
      ],
      "execution_count": null,
      "outputs": []
    }
  ]
}