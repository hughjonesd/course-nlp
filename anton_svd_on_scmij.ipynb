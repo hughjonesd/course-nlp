{
  "nbformat": 4,
  "nbformat_minor": 0,
  "metadata": {
    "colab": {
      "name": "svd_on_scmij.ipynb",
      "provenance": [],
      "include_colab_link": true
    },
    "kernelspec": {
      "name": "python3",
      "display_name": "Python 3"
    }
  },
  "cells": [
    {
      "cell_type": "markdown",
      "metadata": {
        "id": "view-in-github",
        "colab_type": "text"
      },
      "source": [
        "<a href=\"https://colab.research.google.com/github/hughjonesd/course-nlp/blob/master/anton_svd_on_scmij.ipynb\" target=\"_parent\"><img src=\"https://colab.research.google.com/assets/colab-badge.svg\" alt=\"Open In Colab\"/></a>"
      ]
    },
    {
      "cell_type": "markdown",
      "metadata": {
        "id": "VnOJzKclPsxd"
      },
      "source": [
        "# Topic Modelling with NMF and SVD\n",
        "\n",
        "---\n",
        "\n",
        "Test of the Python functions and methods on the previously used data set of all journal articles from Supply Chain Management: An International Journal (1994-2019). \n",
        "\n",
        "I'm not able to do a train/test split as my data is not labelled with topics. But I'll have a go at loading and pre-processing data as well as generating some topics on a subset of papers.\n",
        "\n",
        "The goal of the initial analysis was to conduct an unsupervised literature review of the whole journal corpus for it's 25th anniversary. Topics are identified and described. We also classified topics into 'hot', 'cold' and 'stable' to identify their trajectory over time. \n",
        "\n",
        "This analysis attempts to replicte some of the topic modelling previously performed with LDA in R. Previously identified topic labels could be used as a validation check of the new solution.\n"
      ]
    },
    {
      "cell_type": "markdown",
      "metadata": {
        "id": "7r0uo_-VS4C8"
      },
      "source": [
        "## Environment setup"
      ]
    },
    {
      "cell_type": "code",
      "metadata": {
        "id": "_ar7gosSPwfH"
      },
      "source": [
        "# load the necessary libraries\n",
        "import pandas as pd\n",
        "import numpy as np\n",
        "import nltk\n",
        "from scipy import linalg\n",
        "from sklearn import decomposition\n",
        "from sklearn.feature_extraction.text import CountVectorizer, TfidfVectorizer\n",
        "import matplotlib.pyplot as plt"
      ],
      "execution_count": 1,
      "outputs": []
    },
    {
      "cell_type": "code",
      "metadata": {
        "id": "g6mUX_h9ZmmD"
      },
      "source": [
        "%matplotlib inline\n",
        "np.set_printoptions(suppress=True)"
      ],
      "execution_count": 2,
      "outputs": []
    },
    {
      "cell_type": "markdown",
      "metadata": {
        "id": "1qkD74I6S7n_"
      },
      "source": [
        "## Data load"
      ]
    },
    {
      "cell_type": "markdown",
      "metadata": {
        "id": "Y6n6pdmyQP3Z"
      },
      "source": [
        "First, I need to load my csv file - I upload it to the 'content' directory on the server from my machine.\n"
      ]
    },
    {
      "cell_type": "code",
      "metadata": {
        "id": "LgmIZtIKQUkp",
        "outputId": "be1f8cbc-e351-404d-9934-058c4fbd6aa5",
        "colab": {
          "base_uri": "https://localhost:8080/",
          "height": 307
        }
      },
      "source": [
        "full_texts = pd.read_csv(\"full_pdf_texts.csv\", encoding=\"Latin-1\") "
      ],
      "execution_count": 3,
      "outputs": [
        {
          "output_type": "error",
          "ename": "FileNotFoundError",
          "evalue": "ignored",
          "traceback": [
            "\u001b[0;31m---------------------------------------------------------------------------\u001b[0m",
            "\u001b[0;31mFileNotFoundError\u001b[0m                         Traceback (most recent call last)",
            "\u001b[0;32m<ipython-input-3-93fcf5999a16>\u001b[0m in \u001b[0;36m<module>\u001b[0;34m()\u001b[0m\n\u001b[0;32m----> 1\u001b[0;31m \u001b[0mfull_texts\u001b[0m \u001b[0;34m=\u001b[0m \u001b[0mpd\u001b[0m\u001b[0;34m.\u001b[0m\u001b[0mread_csv\u001b[0m\u001b[0;34m(\u001b[0m\u001b[0;34m\"full_pdf_texts.csv\"\u001b[0m\u001b[0;34m,\u001b[0m \u001b[0mencoding\u001b[0m\u001b[0;34m=\u001b[0m\u001b[0;34m\"Latin-1\"\u001b[0m\u001b[0;34m)\u001b[0m\u001b[0;34m\u001b[0m\u001b[0;34m\u001b[0m\u001b[0m\n\u001b[0m",
            "\u001b[0;32m/usr/local/lib/python3.6/dist-packages/pandas/io/parsers.py\u001b[0m in \u001b[0;36mread_csv\u001b[0;34m(filepath_or_buffer, sep, delimiter, header, names, index_col, usecols, squeeze, prefix, mangle_dupe_cols, dtype, engine, converters, true_values, false_values, skipinitialspace, skiprows, skipfooter, nrows, na_values, keep_default_na, na_filter, verbose, skip_blank_lines, parse_dates, infer_datetime_format, keep_date_col, date_parser, dayfirst, cache_dates, iterator, chunksize, compression, thousands, decimal, lineterminator, quotechar, quoting, doublequote, escapechar, comment, encoding, dialect, error_bad_lines, warn_bad_lines, delim_whitespace, low_memory, memory_map, float_precision)\u001b[0m\n\u001b[1;32m    686\u001b[0m     )\n\u001b[1;32m    687\u001b[0m \u001b[0;34m\u001b[0m\u001b[0m\n\u001b[0;32m--> 688\u001b[0;31m     \u001b[0;32mreturn\u001b[0m \u001b[0m_read\u001b[0m\u001b[0;34m(\u001b[0m\u001b[0mfilepath_or_buffer\u001b[0m\u001b[0;34m,\u001b[0m \u001b[0mkwds\u001b[0m\u001b[0;34m)\u001b[0m\u001b[0;34m\u001b[0m\u001b[0;34m\u001b[0m\u001b[0m\n\u001b[0m\u001b[1;32m    689\u001b[0m \u001b[0;34m\u001b[0m\u001b[0m\n\u001b[1;32m    690\u001b[0m \u001b[0;34m\u001b[0m\u001b[0m\n",
            "\u001b[0;32m/usr/local/lib/python3.6/dist-packages/pandas/io/parsers.py\u001b[0m in \u001b[0;36m_read\u001b[0;34m(filepath_or_buffer, kwds)\u001b[0m\n\u001b[1;32m    452\u001b[0m \u001b[0;34m\u001b[0m\u001b[0m\n\u001b[1;32m    453\u001b[0m     \u001b[0;31m# Create the parser.\u001b[0m\u001b[0;34m\u001b[0m\u001b[0;34m\u001b[0m\u001b[0;34m\u001b[0m\u001b[0m\n\u001b[0;32m--> 454\u001b[0;31m     \u001b[0mparser\u001b[0m \u001b[0;34m=\u001b[0m \u001b[0mTextFileReader\u001b[0m\u001b[0;34m(\u001b[0m\u001b[0mfp_or_buf\u001b[0m\u001b[0;34m,\u001b[0m \u001b[0;34m**\u001b[0m\u001b[0mkwds\u001b[0m\u001b[0;34m)\u001b[0m\u001b[0;34m\u001b[0m\u001b[0;34m\u001b[0m\u001b[0m\n\u001b[0m\u001b[1;32m    455\u001b[0m \u001b[0;34m\u001b[0m\u001b[0m\n\u001b[1;32m    456\u001b[0m     \u001b[0;32mif\u001b[0m \u001b[0mchunksize\u001b[0m \u001b[0;32mor\u001b[0m \u001b[0miterator\u001b[0m\u001b[0;34m:\u001b[0m\u001b[0;34m\u001b[0m\u001b[0;34m\u001b[0m\u001b[0m\n",
            "\u001b[0;32m/usr/local/lib/python3.6/dist-packages/pandas/io/parsers.py\u001b[0m in \u001b[0;36m__init__\u001b[0;34m(self, f, engine, **kwds)\u001b[0m\n\u001b[1;32m    946\u001b[0m             \u001b[0mself\u001b[0m\u001b[0;34m.\u001b[0m\u001b[0moptions\u001b[0m\u001b[0;34m[\u001b[0m\u001b[0;34m\"has_index_names\"\u001b[0m\u001b[0;34m]\u001b[0m \u001b[0;34m=\u001b[0m \u001b[0mkwds\u001b[0m\u001b[0;34m[\u001b[0m\u001b[0;34m\"has_index_names\"\u001b[0m\u001b[0;34m]\u001b[0m\u001b[0;34m\u001b[0m\u001b[0;34m\u001b[0m\u001b[0m\n\u001b[1;32m    947\u001b[0m \u001b[0;34m\u001b[0m\u001b[0m\n\u001b[0;32m--> 948\u001b[0;31m         \u001b[0mself\u001b[0m\u001b[0;34m.\u001b[0m\u001b[0m_make_engine\u001b[0m\u001b[0;34m(\u001b[0m\u001b[0mself\u001b[0m\u001b[0;34m.\u001b[0m\u001b[0mengine\u001b[0m\u001b[0;34m)\u001b[0m\u001b[0;34m\u001b[0m\u001b[0;34m\u001b[0m\u001b[0m\n\u001b[0m\u001b[1;32m    949\u001b[0m \u001b[0;34m\u001b[0m\u001b[0m\n\u001b[1;32m    950\u001b[0m     \u001b[0;32mdef\u001b[0m \u001b[0mclose\u001b[0m\u001b[0;34m(\u001b[0m\u001b[0mself\u001b[0m\u001b[0;34m)\u001b[0m\u001b[0;34m:\u001b[0m\u001b[0;34m\u001b[0m\u001b[0;34m\u001b[0m\u001b[0m\n",
            "\u001b[0;32m/usr/local/lib/python3.6/dist-packages/pandas/io/parsers.py\u001b[0m in \u001b[0;36m_make_engine\u001b[0;34m(self, engine)\u001b[0m\n\u001b[1;32m   1178\u001b[0m     \u001b[0;32mdef\u001b[0m \u001b[0m_make_engine\u001b[0m\u001b[0;34m(\u001b[0m\u001b[0mself\u001b[0m\u001b[0;34m,\u001b[0m \u001b[0mengine\u001b[0m\u001b[0;34m=\u001b[0m\u001b[0;34m\"c\"\u001b[0m\u001b[0;34m)\u001b[0m\u001b[0;34m:\u001b[0m\u001b[0;34m\u001b[0m\u001b[0;34m\u001b[0m\u001b[0m\n\u001b[1;32m   1179\u001b[0m         \u001b[0;32mif\u001b[0m \u001b[0mengine\u001b[0m \u001b[0;34m==\u001b[0m \u001b[0;34m\"c\"\u001b[0m\u001b[0;34m:\u001b[0m\u001b[0;34m\u001b[0m\u001b[0;34m\u001b[0m\u001b[0m\n\u001b[0;32m-> 1180\u001b[0;31m             \u001b[0mself\u001b[0m\u001b[0;34m.\u001b[0m\u001b[0m_engine\u001b[0m \u001b[0;34m=\u001b[0m \u001b[0mCParserWrapper\u001b[0m\u001b[0;34m(\u001b[0m\u001b[0mself\u001b[0m\u001b[0;34m.\u001b[0m\u001b[0mf\u001b[0m\u001b[0;34m,\u001b[0m \u001b[0;34m**\u001b[0m\u001b[0mself\u001b[0m\u001b[0;34m.\u001b[0m\u001b[0moptions\u001b[0m\u001b[0;34m)\u001b[0m\u001b[0;34m\u001b[0m\u001b[0;34m\u001b[0m\u001b[0m\n\u001b[0m\u001b[1;32m   1181\u001b[0m         \u001b[0;32melse\u001b[0m\u001b[0;34m:\u001b[0m\u001b[0;34m\u001b[0m\u001b[0;34m\u001b[0m\u001b[0m\n\u001b[1;32m   1182\u001b[0m             \u001b[0;32mif\u001b[0m \u001b[0mengine\u001b[0m \u001b[0;34m==\u001b[0m \u001b[0;34m\"python\"\u001b[0m\u001b[0;34m:\u001b[0m\u001b[0;34m\u001b[0m\u001b[0;34m\u001b[0m\u001b[0m\n",
            "\u001b[0;32m/usr/local/lib/python3.6/dist-packages/pandas/io/parsers.py\u001b[0m in \u001b[0;36m__init__\u001b[0;34m(self, src, **kwds)\u001b[0m\n\u001b[1;32m   1991\u001b[0m         \u001b[0;32mif\u001b[0m \u001b[0mkwds\u001b[0m\u001b[0;34m.\u001b[0m\u001b[0mget\u001b[0m\u001b[0;34m(\u001b[0m\u001b[0;34m\"compression\"\u001b[0m\u001b[0;34m)\u001b[0m \u001b[0;32mis\u001b[0m \u001b[0;32mNone\u001b[0m \u001b[0;32mand\u001b[0m \u001b[0mencoding\u001b[0m\u001b[0;34m:\u001b[0m\u001b[0;34m\u001b[0m\u001b[0;34m\u001b[0m\u001b[0m\n\u001b[1;32m   1992\u001b[0m             \u001b[0;32mif\u001b[0m \u001b[0misinstance\u001b[0m\u001b[0;34m(\u001b[0m\u001b[0msrc\u001b[0m\u001b[0;34m,\u001b[0m \u001b[0mstr\u001b[0m\u001b[0;34m)\u001b[0m\u001b[0;34m:\u001b[0m\u001b[0;34m\u001b[0m\u001b[0;34m\u001b[0m\u001b[0m\n\u001b[0;32m-> 1993\u001b[0;31m                 \u001b[0msrc\u001b[0m \u001b[0;34m=\u001b[0m \u001b[0mopen\u001b[0m\u001b[0;34m(\u001b[0m\u001b[0msrc\u001b[0m\u001b[0;34m,\u001b[0m \u001b[0;34m\"rb\"\u001b[0m\u001b[0;34m)\u001b[0m\u001b[0;34m\u001b[0m\u001b[0;34m\u001b[0m\u001b[0m\n\u001b[0m\u001b[1;32m   1994\u001b[0m                 \u001b[0mself\u001b[0m\u001b[0;34m.\u001b[0m\u001b[0mhandles\u001b[0m\u001b[0;34m.\u001b[0m\u001b[0mappend\u001b[0m\u001b[0;34m(\u001b[0m\u001b[0msrc\u001b[0m\u001b[0;34m)\u001b[0m\u001b[0;34m\u001b[0m\u001b[0;34m\u001b[0m\u001b[0m\n\u001b[1;32m   1995\u001b[0m \u001b[0;34m\u001b[0m\u001b[0m\n",
            "\u001b[0;31mFileNotFoundError\u001b[0m: [Errno 2] No such file or directory: 'full_pdf_texts.csv'"
          ]
        }
      ]
    },
    {
      "cell_type": "markdown",
      "metadata": {
        "id": "Byk_lsGCSCI2"
      },
      "source": [
        "Let's have a look at the loaded data."
      ]
    },
    {
      "cell_type": "code",
      "metadata": {
        "colab": {
          "base_uri": "https://localhost:8080/"
        },
        "id": "N2TNE8nTEUUy",
        "outputId": "57062d6e-0171-4155-e2f9-ff561478706a"
      },
      "source": [
        "full_texts.describe"
      ],
      "execution_count": null,
      "outputs": [
        {
          "output_type": "execute_result",
          "data": {
            "text/plain": [
              "<bound method NDFrame.describe of             filename                                               text\n",
              "0      article_1.pdf  Trust power and supply chain integration in We...\n",
              "1     article_10.pdf  Blockchain technology implications for operati...\n",
              "2    article_100.pdf  Introduction Research paper Partnership sourci...\n",
              "3    article_103.pdf  Trade in the st century will be driven by Rese...\n",
              "4    article_106.pdf   Introduction Research paper Achieving high In...\n",
              "..               ...                                                ...\n",
              "893  article_708.pdf  Facing disruptive technologies aligning purcha...\n",
              "894  article_860.pdf  Barriers to implementing reverse logistics in ...\n",
              "895  article_886.pdf  Towards an integrated conceptual model of supp...\n",
              "896  article_902.pdf  Analysing supply chain integration through a s...\n",
              "897  article_905.pdf  Supply chain readiness response and recovery f...\n",
              "\n",
              "[898 rows x 2 columns]>"
            ]
          },
          "metadata": {
            "tags": []
          },
          "execution_count": 72
        }
      ]
    },
    {
      "cell_type": "code",
      "metadata": {
        "colab": {
          "base_uri": "https://localhost:8080/",
          "height": 204
        },
        "id": "UHtcnTMHSEfF",
        "outputId": "cbb7f579-53f4-4103-f1cb-4ad30b2a8076"
      },
      "source": [
        "full_texts.head()"
      ],
      "execution_count": null,
      "outputs": [
        {
          "output_type": "execute_result",
          "data": {
            "text/html": [
              "<div>\n",
              "<style scoped>\n",
              "    .dataframe tbody tr th:only-of-type {\n",
              "        vertical-align: middle;\n",
              "    }\n",
              "\n",
              "    .dataframe tbody tr th {\n",
              "        vertical-align: top;\n",
              "    }\n",
              "\n",
              "    .dataframe thead th {\n",
              "        text-align: right;\n",
              "    }\n",
              "</style>\n",
              "<table border=\"1\" class=\"dataframe\">\n",
              "  <thead>\n",
              "    <tr style=\"text-align: right;\">\n",
              "      <th></th>\n",
              "      <th>filename</th>\n",
              "      <th>text</th>\n",
              "    </tr>\n",
              "  </thead>\n",
              "  <tbody>\n",
              "    <tr>\n",
              "      <th>0</th>\n",
              "      <td>article_1.pdf</td>\n",
              "      <td>Trust power and supply chain integration in We...</td>\n",
              "    </tr>\n",
              "    <tr>\n",
              "      <th>1</th>\n",
              "      <td>article_10.pdf</td>\n",
              "      <td>Blockchain technology implications for operati...</td>\n",
              "    </tr>\n",
              "    <tr>\n",
              "      <th>2</th>\n",
              "      <td>article_100.pdf</td>\n",
              "      <td>Introduction Research paper Partnership sourci...</td>\n",
              "    </tr>\n",
              "    <tr>\n",
              "      <th>3</th>\n",
              "      <td>article_103.pdf</td>\n",
              "      <td>Trade in the st century will be driven by Rese...</td>\n",
              "    </tr>\n",
              "    <tr>\n",
              "      <th>4</th>\n",
              "      <td>article_106.pdf</td>\n",
              "      <td>Introduction Research paper Achieving high In...</td>\n",
              "    </tr>\n",
              "  </tbody>\n",
              "</table>\n",
              "</div>"
            ],
            "text/plain": [
              "          filename                                               text\n",
              "0    article_1.pdf  Trust power and supply chain integration in We...\n",
              "1   article_10.pdf  Blockchain technology implications for operati...\n",
              "2  article_100.pdf  Introduction Research paper Partnership sourci...\n",
              "3  article_103.pdf  Trade in the st century will be driven by Rese...\n",
              "4  article_106.pdf   Introduction Research paper Achieving high In..."
            ]
          },
          "metadata": {
            "tags": []
          },
          "execution_count": 73
        }
      ]
    },
    {
      "cell_type": "code",
      "metadata": {
        "colab": {
          "base_uri": "https://localhost:8080/",
          "height": 123
        },
        "id": "dqFbZhCzSdDK",
        "outputId": "2efb4a5a-37ed-4b9b-af97-aee079ceb2df"
      },
      "source": [
        "full_texts.iloc[2]['text']"
      ],
      "execution_count": null,
      "outputs": [
        {
          "output_type": "execute_result",
          "data": {
            "application/vnd.google.colaboratory.intrinsic+json": {
              "type": "string"
            },
            "text/plain": [
              "\"Introduction, Research paper, Partnership sourcing is often perceived as the, Pre-construction, best approach to achieving supply chain, project partnering:, improvement through the development of, more effective customer-supplier, from adversarial to, relationships. A large body of literature now, collaborative, exists which presents various approaches to, the general idea from a wide range of, relationships, industrial and academic perspectives (Moore, et al., 1992; Carr and Truesdale, 1992;, Paul Humphreys, Macbeth and Ferguson, 1994), including, Jason Matthews and, dyadic collaborative relationships, the, network concept in relationship marketing, Monan Kumaraswamy, and the development of strategic alliances, (Harland, 1996; Harland et al., 1999)., The authors, Nevertheless, as a number of articles and, Paul Humphreys is a Reader at the School of, reports (Lamming, 1994; Burnes and New,, Management, University of Ulster, Newtownabbey, UK., Jason Matthews is a Research Assistant in the, 1996; Watson, 1999) have shown, this is an, Downloaded by University of East Anglia At 01:45 31 May 2019 (PT), Department of Real Estate and Construction and, area where rhetoric seems to be moving well, Monan Kumaraswamy is Associate Professor, both at, ahead of reality. It is certainly true that, the University of Hong Kong, Hong Kong, SAR., partnership sourcing is described in simplistic, terms, thus making the potential benefits, Keywords, appear easier to achieve than is the case. In, Partnering, Construction industry, Contract labour,, addition, the distribution of the benefits that, Subcontracting, can be achieved through customer-supplier, improvement activities is a more contentious, Abstract, issue than much of the literature, The use of subcontracting within the construction industry, acknowledges., has become commonplace with many main contractors only, New and Ramsey (1997) conducted an, undertaking the management and co-ordination activities., empirical study of the benefits to be gained, The reliance on subcontractors has put much stress on the, main contractor-subcontractor relationship. As main, from collaborative buyer-supplier, contractors have realised that the greatest potential for cost, relationships. They found that the, savings lies with the subcontractors, the prevalence of unfair, distribution of the costs of improvement, practices has increased. This paper describes a procurement, activities were biased towards suppliers rather, approach, utilising limited competition, developed by a, major UK main contractor in order to improve its, than the customer. However, the benefits, relationships with subcontractors. The approach developed, from these activities were biased towards, was based on research which identified: what the main, customers. This is supported within the, contractor's professional employees want from, construction industry, with Watson (1999), subcontractors; what subcontractors want from main, contractors; and a study to compare the main contractor's, noting that despite all the positive publicity of, performance with that of its competitors. It was concluded, partnering, the benefits of effective supply, that this approach offers a number of benefits for the client,, chain partnering are not being passed to, the main contractor, partnering subcontractors and, subcontractors (SCs)., professional consultants, such as, lower costs, improved, team approach and less confrontation., McIvor et al. (1997) present evidence to, suggest that procurement personnel have, found it difficult to adapt to the new ethos of, Electronic access, openness with suppliers. This can be seen in, The Emerald Research Register for this journal is, the area of cost transparency, where open, available at, http://www.emeraldinsight.com/researchregister, book negotiation is not used for mutual, benefit, thus gaining a poor reputation, The current issue and full text archive of this journal is, available at, because of its use as a method of reducing, http://www.emeraldinsight.com/1359-8546.htm, supplier margins. In addition, suppliers are, expected to embrace a collaborative, Supply Chain Management: An International Journal, relationship, after many years of operating in, Volume 8 . Number 2 . 2003 . pp. 166-178, # MCB UP Limited . ISSN 1359-8546, a system in which trust was the last thing they, DOI 10.1108/13598540310468760, expected. In a major survey of UK senior, 166, Pre-construction project partnering, Supply Chain Management: An International Journal, Paul Humphreys, Jason Matthews and Monan Kumaraswamy, Volume 8 . Number 2 . 2003 . 166-178, managers, it was found that more, industry-specific and/or project-specific, collaborative relationships may not be easily, factors which need to be included in the, achieved. An atmosphere of suspicion,, selection process? As Cox and Thompson, founded on previous behaviour, has caused, (1997) point out in their research on, many companies to hold back from trying to, contractual relations in the construction, build closer relationships (A.T. Kearney,, industry, there is no single optimum buyer-, 1994). Moore et al. (1992), Harbuck et al., supplier relationship. Second, the model, (1994) and Dainty et al. (2001) develop this, represents an idealised scenario, where a firm, point further. They concluded, in the context, wants to form a collaborative relationship. As, of construction, that the working behaviour is, already indicated, in many instances,, negatively affected by traditional working, organisations may have difficulty in, approaches. In practice most relationships are, implementing this approach. Consequently,, still dominated by the relative and perceived, does the evolution of a partnering relationship, power of the participants. The terms of, need to be refined to provide an incremental, collaboration tend to reinforce dependent, development path, rather than one which, power relations, with the buyer usually telling, requires organisations to be revolutionary in, the suppliers what they require from them., their approach? In this article, a case study is, A growing body of research in purchasing, presented from the UK construction industry, partnerships is developing. Work has been, which proposes an alternative methodology, Downloaded by University of East Anglia At 01:45 31 May 2019 (PT), undertaken that describes the different types, for implementing a partnering relationship., of relationships, the benefits and problems, The proposed partnering framework draws on, associated with partnering, the philosophical, the professional experiences of the main, issues a firm must address in shaping its, participants, as well as taking into account, attitudes toward suppliers and the changes, best practice within the industry. However,, required in a firm's operating procedures, before proceeding to the case study, it is, before supplier partnerships can be, necessary to examine how the procurement, implemented successfully. The need for, process has evolved within the construction, forming partnerships and the potential, industry and the types of relationship to be, benefits of forming them are also recurring, found. It should also be pointed out that the, themes in the literature. There appears to be a, paper focuses on the pre-construction phase., This refers to all activities up to the point of, consensus in the literature that supplier, placing a contract and does not include the, partnerships develop over time. However,, physical building process., only a limited amount of previous work, prescribes a specific path for developing and, implementing successful partnerships. Ellram, (1991) and Crane et al. (1997) propose, Construction partnering defined, normative development guides which are, This section does not seek to be exhaustive in, based on case study material, empirical data, discussing these trends, as much work has, and the findings from the literature. The, been undertaken in this respect by other, models identify five main phases in the, commentators (Reading Construction, evolution of purchasing partnerships:, Forum, 1995, 1998; CII, 1991; NEDO,, (1) internal alignment;, 1991; Crowley and Karim, 1995; AGC,, (2) identify potential partners;, 1991; Barlow and Jashapara, 1998)., (3) screen and select;, However, the following will highlight the, (4) establish relationships; and, main relevant themes and points that should, (5) evaluate relationship., be borne in mind when developing partnering, These phases are not meant to be mutually, relationships., exclusive, but represent a potentially iterative, Partnering has become an increasingly, process that is dynamic in nature., popular form of business relationship within, The models, outlined above, are useful in, the construction industry over the last decade, providing a generic framework within which a, (Crane et al., 1997). The adoption of, collaborative relationship should evolve., partnering into the construction industries of, However, it does raise a number of important, the USA, Australia and the UK can be, questions with regard to the limitations of the, attributed to the fact that relationships in, models developed. First, are there, these industries were commonly lacking trust,, 167, Pre-construction project partnering, Supply Chain Management: An International Journal, Paul Humphreys, Jason Matthews and Monan Kumaraswamy, Volume 8 . Number 2 . 2003 . 166-178, respect and honesty between clients, main, (1994) notes that although partnering is, contractors (MCs) and SCs. This had led to, practiced on fragmented projects it required, procurement problems, with claims,, national ``lobbying'' in order that partnering is, litigation, and unsatisfied clients being, used across industry under the correct, common., circumstances. In the UK, the RCF (1998), Two major reports funded by the British, develop this point further by stating that new, Government (Egan, 1998; Latham, 1994), initiatives in partnering have enabled ``second, have provided increased impetus to improve, and third generation partnering'' to evolve., the relationships between all parties involved, Second generation partnering was, in construction procurement. Partnering was, underpinned by the ``seven pillars'' of, seen by many as the key to achieving this, partnering, these being strategy, membership,, improvement. In addition, Egan (1998), equity, integration, benchmarks, project, pointed out that partnering through the, processes and feedback. In the third, supply chain is a critical approach with which, generation of partnering the construction firm, the UK construction industry can drive, should be building virtual organisations with, innovation and sustain incremental, its supply chain to provide a complete service, improvement in performance. This emphasis, which is efficient, creative and innovative., on partnerships is supported by Hayward, Table I compares four studies on partnering, (1999) and Whitelaw (1999) through the, undertaken between 1991 and 1996 in the, Downloaded by University of East Anglia At 01:45 31 May 2019 (PT), Movement for Innovation initiative, where, USA and the UK. It highlights the main, substantial improvements in terms of, for, elements of partnering as identified from, example, cost reduction, quality, work, these studies., environments and project management have, Such consideration of the main elements, of, been identified., both generic, project and strategic partnering, One of the most commonly cited definitions, has been commonplace within the partnering, for partnering is that of the Construction, literature since its first implementation in the, Industry Institute (CII, 1991), formulated, late 1980s. Several commentators (for, after studying 27 partnering case studies in, example, Cook and Hancher (1990); AGC, the USA:, (1991); Mosley et al. (1991); Sanders and, . . . a long-term commitment between two or, Moore (1992); Harbuck et al. (1994); Larson, more organisations for the purpose of achieving, (1995); and RCF (1995)) have reviewed, specific business objectives by maximising the, various elements of partnering, with the main, effectiveness of each participant's resources., This requires changing traditional relationships, focus being on the relationship between the, to a shared culture without regard to, client and the MC. However, very few have, organisational boundaries. The relationship is, discussed partnering in the context of the, based on trust, dedication to common goals, and, MC-SC relationship., an understanding of each other's individual, expectations and values., The vast majority of partnering, MC-SC relationship in the construction, commentators (RCF, 1995) discuss, industry, partnering in the context of either project, partnering or strategic partnering. Project, The UK construction industry has, over the, partnering is partnering undertaken on a, years, moved to a position where the lack of, single project. At the end of the project the, mutual respect and honesty between, partnering relationship is terminated and, professionals, MCs and SCs, negatively, another relationship may commence on the, effects the procurement process., next project. Project partnering was pioneered, Traditionally, MCs would execute most of a, in the USA construction industry during the, project using directly employed labour., mid to late 1980s., However, the dramatic increase in the use of, Strategic partnering takes place when two, SCs has resulted in up to 90 per cent of the, or more firms use partnering on a long-term, value of work undertaken on a construction, basis to undertake more than one, project being subcontracted (Nobbs, 1993)., construction project, or some continuing, Jamieson et al. (1996) stated that despite a, construction activity. However, Kubal (1994), drop in construction work available in the, and more recently the RCF (1998) discuss, marketplace, there has been no great change, partnering at an industry wide level. Kubal, overall in the number of UK construction, 168, Pre-construction project partnering, Supply Chain Management: An International Journal, Paul Humphreys, Jason Matthews and Monan Kumaraswamy, Volume 8 . Number 2 . 2003 . 166-178, Table I Comparison of identified partnering elements, Sanders and, Reading Construction, AGC (1991), Moore (1992), Forum (1995), Matthews (1996), Commitment, Co-operative management, Free and open, Goals and objectives, team, communication, Continuous evaluation equity, Co-operation, Open book costing, Trust, Equity, Open communication, Annual review of, Problem resolution, performance, Mutual objectives, Group working, Workshops, Commitment, Timely responsiveness, Common goals, Continuous evaluation, Continuous evaluation, Trust, Problem solving, Mutual objectives, Group working, Implementation, Problem resolution, Win-win philosophy,, shared risk, equity,, co-operation, Source: Adapted from Matthews (1996), workers. In many instances MCs now provide, increased (Confederation of Construction, only the management and coordination, Specialists, 1992)., Downloaded by University of East Anglia At 01:45 31 May 2019 (PT), activities of the project. Thus, these, SCs have also caused problems. With low, organisations have become, in effect,, entry barriers into the construction industry, professional service firms, consisting mainly, in the UK, SC organisations have been, of architects, surveyors, project managers,, established with very little capital investment., contracts managers, estimators, planners,, Many of these SC companies do not have the, engineers and buyers, responsible for the, necessary expertise to undertake work, planning, organising, directing and, satisfactorily and, as a consequence, are, controlling of projects, rather than the, unable to give their clients the service they, physical construction of buildings., require. Moreover, many of the bad traits, Nobbs (1993) attributed the increased, common to the MC-SC relationship are also, involvement of SCs to the shift away from the, common at lower levels in the supply chain, traditional craft-base, to a greater reliance on, (Matthews, 1996)., increasingly sophisticated technology-based, Hinze and Tracey (1994) described the, products. Matthews (1996) believed that the, findings of exploratory research undertaken in, increase in sophisticated technology-based, the USA in order to identify how subcontracts, products has required a high degree of design,, were placed. They put forward a series of, manufacture, installation and commissioning, recommendations to improve the MC-SC, skills which have not been readily available to, relationship. They added that further in-, the industry's clients, as the skill base has, depth research should pursue various critical, moved away from the main contractor's, issues identified in their study., organisation. This has resulted in MCs, In the UK, the Latham (1994) report, concentrating their efforts on managing site, provided a focus and motivation to explore, operations rather than employing direct, improvements in MC-SC relationships for the, labour to undertake construction work. By, benefit of the industry as a whole. Latham, contrast, Jamieson et al. (1996) also attributed, (1994) recommended that partnering should, the increased use of SCs to the increased, be considered in the context of MC-SC, complexity of both the construction of, relationships commenting:, buildings and the organisational relationships., Partnering arrangements are also beneficial, However, this increase in complexity, the, between firms. Some MCs have developed long, term relationships with SCs. That is welcome., over-supply of specialist firms, and the, Such arrangements should be the principle, declining construction output has cultivated, objective of improving performance and, an adversarial atmosphere which has had a, reducing costs for clients. They should not be, negative effect on the MC-SC relationship., ``cosy''. The construction process exists to satisfy, As MCs have realised that the greatest, clients. Good relationships based on mutual, trust benefits clients., potential for cost savings lies with SCs, the, extent of unfair contract conditions, Dutch, Since the early 1990s many organisations in, auctioning and other onerous practices has, the UK construction industry have employed, 169, Pre-construction project partnering, Supply Chain Management: An International Journal, Paul Humphreys, Jason Matthews and Monan Kumaraswamy, Volume 8 . Number 2 . 2003 . 166-178, partnering within their business practices and, create an environment where it can be, relationships. Walter (1998) showed that, clearly demonstrated that SCs perform, many of the large UK-based MCs were, more cost effectively in meeting customer, pursuing partnering relationships, with, needs, than they can when working on sites, partnering ``workloads'' increasing over time., of other MCs., Similarly, the RCF (1998) and Watson, (1999) clearly show the attention major, Methodology, ``blue-chip'' clients are giving partnering., In order to formulate an alternative approach, Research undertaken by Matthews (1996), to project partnering and SC selection, a, pointed to the need to rationalise and improve, four-stage research methodology was, the way SCs are procured by MCs, with the, developed by a team of ten experts drawn, adoption of the ``partnering philosophy'', from D&B (five off) and academia (five off), being the key to achieving these, (see Figure 1). The experts were of the, improvements., opinion that the research methodology, The current partnering literature has largely, enabled identification of the main areas that, concentrated on the client-MC relationship,, had negative and positive impacts on the, with little reference to the MC-SC, MC-SC relationship. This approach elicited, relationship. Also, much of the partnering, opinions on: how SCs could improve their, literature is concerned with discussing, dealings with both D&B and other MCs; how, Downloaded by University of East Anglia At 01:45 31 May 2019 (PT), partnering from a general perspective, with, SCs believed that D&B and other MCs could, little attempt being made to detail the, improve their dealings with SCs and identify, ``mechanics'' of how partnering relationships, those procedures and elements where D&B, are forged. This paper will overcome these, was ``good'' or ``bad'' as compared to its, two weaknesses in not only discussing, competitors. A total of 217 questionnaires, partnering between a MC and its SCs, but, and 59 interviews were completed by, also detailing the selection criteria used to, professional staff in the first three stages of, procure SCs., this research case study. Sample sizes for each, stage were:, (1) Stage 1. 141 questionnaires and, UK-based case study, 11 interviews., (2) Stage 2. 76 questionnaires and, Organisation background, 31 interviews., The MC which initiated the study has a long, (3) Stage 3. 17 interviews., history of construction within the UK and will, be referred to as D&B for reasons of, The questionnaires contained closed and, confidentiality. Recently, the organisation has, open-ended questions. Closed questions, been taken over by a global construction, took the form of a statement which had to, conglomerate. At present the UK operations, be marked in terms of importance from 1, of this company have an annual turnover of, (no importance) to 6 (most important). All, £800 million (1998/1999). D&B design, statements were given a percentage score, services are supported by an extensive, which was either a positive or negative, in-house team of design professionals, percentage of the total score that could be, including architects, structural engineers,, obtained (that is, a higher positive score, building services engineers and temporary, (+%) indicated its relative importance,, works engineers who deal with critical aspects, whereas a negative score (±0%) indicated its, of the design process. Clients of D&B include, relative un-importance). The closed-ended, national and international companies working, questions are to be reported upon in a, within the retailing, petrochemical and, future paper and no detailed results are, property development/financial services, presented here., business sectors., Open-ended questions were analysed by, D&B developed this study based on the, using a content analysis identification test., rationale that in order to increase, All responses to questions were recorded, productivity, it had to work more closely, using, where possible, a tape recorder., with its SCs and develop closer working, Answers to questions were then, relationships. The research strategy was, incorporated into a computerised database., developed with the aim of being able to, The database allowed answers to questions, 170, Pre-construction project partnering, Supply Chain Management: An International Journal, Paul Humphreys, Jason Matthews and Monan Kumaraswamy, Volume 8 . Number 2 . 2003 . 166-178, Figure 1 Research methodology, Downloaded by University of East Anglia At 01:45 31 May 2019 (PT), to be recorded in a systematic way that, in, The four-stage research methodology is, turn, facilitated the overall identification of, outlined below., those issues that were found to be the most, and least prevalent. The designs for the, Stage 1: assess the requirements of SCs, questionnaires were established by referring, from D&B perspective, to recommendations put forward by, The aim of the first stage was to assess the, Oppenhiem (1966) and Sinclair (1975). All, requirements of SCs from the perspective of, questionnaires and interview instruments, D&B, in order to ascertain how the main, were developed by means of a test and, contractor and SC operations could be, revision process. The aim of the process was, improved. Also, to obtain a holistic view on, to test the understanding and the content of, how practices and approaches, including, the questionnaires., those of SC selection, between D&B and SCs, Basic subject areas were identified before, could be improved and what features of their, questions were formulated. Within all the, relationships were perceived to be important, research stages, the following were identified, and unimportant., by industry experts and the literature as being, Examples of open-ended questions asked, of importance:, include:, D&B-SC relationship;, What characteristics of a subcontract firm can, D&B-other MCs relationships;, have a detrimental effect on the relationship, between it and D&B?, other MCs-SCs relationships;, How do you think the pre-contract/contract/, partnering;, post-contract phases of the D&B subcontract, subcontracting practices and processes;, process could change to make an improvement, adversarial practices adopted by D&B,, on the way we (D&B) deal, select and, and other MCs and SCs., communicate with SCs?, 171, Pre-construction project partnering, Supply Chain Management: An International Journal, Paul Humphreys, Jason Matthews and Monan Kumaraswamy, Volume 8 . Number 2 . 2003 . 166-178, Stage 2: assess the requirements of D&B, Research conclusions of the case study, ± the SCs' views, The research conducted within the above four, The second stage of the research aimed at, stages elicited observations and general, assessing the requirements of MCs from the, conclusions that were beneficial within the, SCs perspective by undertaking a review of, overall context of this study. For example,, the key features of a MC's organisation,, conclusions from stage 1 included:, including MC selection procedures and, D&B employees believed that there was, criteria, that were perceived to be important, benefit in developing partnering, and not important., arrangements with key SCs., An example of an open-ended question, Supervision and management, asked is:, characteristics were the most important, When you receive an enquiry/tender for the same, features of SCs from D&B perspective., contract from different MCs, does the price that, Little consensus was identified on, you quote differ for each contractor?, how relationships between D&B and its, What is the extent of the difference?, SCs could be improved. However, two, Would any preference be given to a particular, points were identified as having possible, MC?, significance. These are: improving, communication; and more team working., Stage 3: compare D&B performance to, Positive attitudes were demonstrated as, Downloaded by University of East Anglia At 01:45 31 May 2019 (PT), that of its competitors, having the most positive impact on the, Stage 3 of the research aimed at identifying, relationship between D&B and its SCs., those practices and approaches used to, Compliance to commitments and the, procure and manage SCs that were perceived, ability of the SC to respond quickly and, by SCs to be better or worse than the, correctly to D&B needs were confirmed, collaborating contractor's competitors., as critical and important across all, Examples of questions asked are shown in, divisions of the main contractor., the Appendix., It was established within the research that, the D&B subcontracting process could be, Stage 4: develop an alternative project, improved by more feedback and review of, partnering approach, SCs primarily within the pre- and, The aim of this stage was to develop an, post-contract stage. Other improvements, alternative approach to partnering to suit the, identified included: better evaluation of, particular requirements of D&B, and to, SC bids; and allow the D&B site team, improve SC relationships by taking into, more involvement in the selection of SCs., consideration the findings of the first three, stages. The particular requirements of the, General conclusions from stage 2 can be, main contractor were:, summarised as follows:, It did not want commitment to long-term, .  Poor site management was identified as, relationships without fully understanding, being a characteristic that detrimentally, the practicalities of what they are, affected the MC-SC relationship. By, undertaking. They required, in the first, contrast it was proven that good site, instance, an approach of developing, management would have a positive, relationships for a project by project basis, impact on the SCs ability to carry out, only., their work., It required an approach that provided, .  A better attitude towards SCs and more, both time and cost savings., trust and fair dealing, especially when, The approach to partnering required an, paying SCs were identified as being ways, element of price competition. This, of improving MC-SC relationships., competition was seen to provide, .  SCs should be involved earlier within the, assurances that any price quoted by a SC, building process to develop mutual, was representative of the current market, understanding of the project., price., .  All SCs interviewed confirmed that they, The new approach would allow the use of, were willing to undertake partnering, more than one tendering SC, as well as, arrangements in the future., employing their specialist knowledge, .  SCs gave certain MCs preferential, during all stages of the project., treatment., 172, Pre-construction project partnering, Supply Chain Management: An International Journal, Paul Humphreys, Jason Matthews and Monan Kumaraswamy, Volume 8 . Number 2 . 2003 . 166-178, MCs placed too much importance on, recommendations were implemented through, price to the detriment of quality., a semi-project partnering approach., SCs have a good understanding of what is, important to D&B., Important issues in improving the, Semi-project partnering, MC-SC relationship were: payment;, communication; feedback; selection;, Within the literature, the ideal forms of, tendering; contract management; and, project and strategic partnering indicate, contract administration., that negotiation is the main approach used, to secure a contract. A SC is therefore, General conclusions from stage 3 include:, required by D&B to discuss openly issues, .  Earlier involvement of SCs should take, concerning, for example, projected profit, place at the pre-contract estimating stage., levels and overheads. Based on the case, .  Benefits of involving SCs earlier were, study, the term ``semi-project'' partnering, identified: increasing knowledge and, has been used to describe the project, understanding of the project; and the, partnering approach developed, as outlined, MC-SC can share their specialist, in Figure 2. With semi-project partnering, a, knowledge., limited form of ``competitive'' tendering is, .  The most important time for feedback to, applied. Prospective SCs are informed by, Downloaded by University of East Anglia At 01:45 31 May 2019 (PT), be given to SCs was at the tender stage., D&B that a partnering philosophy will be, Tender feedback from the MC and other, used throughout the project, and that, MCs was only established as being, successful organisations will be required, for, ``adequate''., example, to attend partnering workshops, For stage 4 an overall generic project, and develop issue resolution procedures. At, partnering approach was developed based on, the end of the project the relationship will, an extensive literature review and findings, be terminated., from the previous stages 1, 2 and 3. The, The main areas of the partnering approach, decision was based primarily on the following, related to SC identification, selection and, factors:, appointment are:, As D&B did not want to commit to long-, package and company identification;, first SC interview;, term relationships without fully, second SC interview;, understanding the practicalities and legal, third interview tender clarification; and, implications of what they were, final SC selection., undertaking, it was concluded that, project partnering relationships were, A project team was established for the, most appropriate. This approach would, duration of the project. Although it was, allow D&B to develop relationships on a, understood that the personnel on the team, project by project basis., would change during the project life,, Although D&B understood that a, members of the team during the partnering, strategic partnering approach potentially, stages were commonly: the D&B commercial, offered greater time and cost savings, it, representation (estimator and principal, was aware of its lack of experience in, quantity surveyor); design representation, formal partnering and held the belief that, (architect and project design manager);, successful project partnering relationships, engineering representation (structural and, could in time develop into longer-term, services); site management representation, (project and contracts manager). Personnel, relationships., from the client organisation were also, D&B concluded that it would be easier, represented in the team., and useful, at least in the first instance, to, incorporate an element of price, competition into project partnering., Package and company identification, Once all four stages of the research had been, completed recommendations were, The objective of this stage was to identify all, formulated and presented to senior, major packages on the project that would, management within the MC. The, benefit from the partnering approach. Trades, 173, Pre-construction project partnering, Supply Chain Management: An International Journal, Paul Humphreys, Jason Matthews and Monan Kumaraswamy, Volume 8 . Number 2 . 2003 . 166-178, Figure 2 Semi-project partnering, Downloaded by University of East Anglia At 01:45 31 May 2019 (PT), and packages were examined under the, good in-house design service (where, following headings:, applicable);, design content;, good standards of management (site and, complexity of construction;, head office); and, high subcontract value;, the desire (if any) of D&B to develop a, long periods of construction;, long-term relationship with the SCs., early commencement of construction;, On conclusion of the team meeting, between, high level of aesthetics;, three and five shortlisted SCs remained for, long procurement times; and, those trades that could ``add value'' with, each package. Each of the SCs were invited to, the first subcontractor interview. They were, their early input., also informed of the type of project, its, Key trades/packages that were identified, location, programmed time and other basic, included: structural steel frame; brickwork;, data., mechanical and electrical engineering;, ceilings; floors; partitions; stone cladding;, First subcontractor interview, atrium glazing; and lifts. Having identified all, The first subcontractor interview had three, trades/packages, names of SCs were put, aims: first, to assess the SCs ability in terms of, forward by all project team members during a, attitude, proactiveness, design capability,, team meeting. The team assessed each, honesty, background and workload; second,, company in order to shorten the list. SCs, to introduce the project and the philosophy of, were assessed primarily on past performance., partnering and ``the team'' to the SCs; and, Other criteria to be employed include:, third, to hand over pricing details and other, ability to undertake this quantity of work;, relevant information., ability to produce the required standard, The D&B project manager chaired the, of work;, meeting. The criteria against which the SCs, ability to undertake the work (not, were to be assessed were developed by the, wanting to ``overstretch'' the SCs);, project team facilitated by an independent, positive attitude (past experiences);, party. The SCs were informed at the meeting, firm financial background;, of the general nature of the criteria under, 174, Pre-construction project partnering, Supply Chain Management: An International Journal, Paul Humphreys, Jason Matthews and Monan Kumaraswamy, Volume 8 . Number 2 . 2003 . 166-178, which their submissions would be evaluated., interview. The selected SC was informed by, These criteria were:, the project estimator that the MC wished to, .  Understanding of the partnership, use them on the project. An indicative price, concept., and budget rates were agreed upon based on, .  Response to partnering., the client's cost plan., .  Alternative proposals put forward for, their package. These included design, innovation, alternative product, Conclusions, specification and value engineering., .  Indicative price., This paper has outlined an approach, .  Technical ability., developed by a main contractor in order to, .  Enthusiasm for the project., improve MC-SC relationships. This has led, .  Past experience of similar work., to the development and implementation of an, .  Quality awareness., alternative partnering approach. Although, Information handed to all SCs at this, this methodology is not the ``purest'' way to, interview included maximum cost plan prices,, undertake partnering it has, for those people, drawings of general arrangements and, involved, had several benefits as outlined in, sections, specifications and approximate, Table II., The methodology developed has initially, Downloaded by University of East Anglia At 01:45 31 May 2019 (PT), quantities. Each interview was scheduled to, been pilot tested in a number of small-scale, last for one hour, with between three and six, projects with contract values of less than, interviews taking place in any particular day., £15 million. It is currently being extended to, It was common for all SCs concerned with a, larger scale projects within the UK and the, particular trade to be interviewed in one day., intention is to widen the scope further to, In some situations, the first interview was only, include European projects. Twenty separate, used to evaluate SCs, as pricing information, debriefing interviews with both successful and, was not available., unsuccessful SCs revealed that they had, consciously reduced their pricing levels by an, Second subcontractor interview: project, briefing, average of around 10 per cent, in recognition, In the scenario where the first interview acted, of savings that they anticipated from the, as an ``evaluation interview'' only, the second, improved working relationships and, interview was used to hand over pricing, arrangements. These enhanced operational, documentation to the SC, as well as to offer, efficiencies were expected to arise from the, partnering arrangements. Confidence in such, another opportunity to the SC to meet, direct and tangibles benefits from partnering, members of the project team if he/she had not, was perhaps inspired by:, fully understood the requirements of the, acceptance of the D&B philosophy that, project from the first interview., industry needed a radically changed, approach to ``doing business'';, Tender clarification, increased acceptance of partnering, This interview was set for those instances, principles in the industry in general;, where the first interview acted as an initial SC, benefits that were seen to have emerged, evaluation whilst the second was used to hand, from previous client-D&B partnering, over pricing documentation. The aim of this, arrangements; and, interview is to give both MC and the SC the, commitment to MC-SC partnering, opportunity to discuss the tender and check, demonstrated by D&B in the preliminary, for compliance and accuracy following the, meetings and throughout the entire, return of the tender documentation., selection process., Subcontractor selection, Follow-up interviews with more than 30, The final decision on which SC was to be, project participants (30 were formal, while, employed was left primarily to the MC,, others were informal) also elicited a general, although the client's quantity surveyor had, consensus of much better working, the opportunity to raise any relevant issues., relationships between and within teams, The selection was made on the criteria, having been generated in this pilot project. It, communicated to the SCs during the first, was also found much easier to control time, 175, Pre-construction project partnering, Supply Chain Management: An International Journal, Paul Humphreys, Jason Matthews and Monan Kumaraswamy, Volume 8 . Number 2 . 2003 . 166-178, Table II Benefits/advantages of semi-project partnering approach, Trait, Client, Main contractor, Professional consultants, Partnering subcontractors, Improved team approach, \\x02, \\x02, \\x02, \\x02, Improved understanding of project, \\x02, \\x02, More compliant bids, \\x02, \\x02, High quality bids, \\x02, \\x02, Better/closer relationships, \\x02, \\x02, \\x02, \\x02, More reliable programming, \\x02, \\x02, \\x02, Improved method of achieving, project objectives, \\x02, \\x02, \\x02, \\x02, Limited competition, \\x02, \\x02, Less confrontation,, i.e. subcontractor claims, \\x02, \\x02, \\x02, \\x02, Lower tendering costs, \\x02, \\x02, \\x02, and cost performance levels and achieve, Partnering is not a panacea to all MC-SC, higher quality levels given the close, relationship problems. It requires for many a, co-operation and openness/transparency, change of mindset if it is to be successfully, Downloaded by University of East Anglia At 01:45 31 May 2019 (PT), that facilitated earlier anticipation and, utilised. The biggest test comes when, minimisation of potential problems., problems arise on partnering projects and, However, it was also noted during the, those who endorse the approach over come, follow-up interviews that the tender costs, the urge to revert back to a traditional, during this partnering approach were greater, adversarial relationship. As Figure 3 indicates, than those found on competitively tendered, the semi-project partnering methodology, projects., provides an additional route for MCs to, The problems in implementing successful, follow in moving to a fully fledged partnering, supply chain collaboration and management, arrangement. As organisations gain, within the UK construction industry are at, knowledge and experience in operating at, present associated with an inappropriate, each partnering level they can move to the, traditional culture based on adversarial, next level in the hierarchy. Thus, companies, relationships and the unique features of the, inter-organisational structure involving, Figure 3 Partnering progress through increased learning, clients, MCs and SCs. A major requirement, for successful partnering implementation,, trust, is just beginning to be actively, cultivated. The lack of senior management, commitment, the lack of appropriate support, structures and the widespread ignorance of, supply chain philosophy need to be addressed, within the construction industry. As Briscoe, et al. (2001) confirm, attitudinal change is, required throughout the construction, industry if SCs are to be integrated into the, supply chain. One mechanism for introducing, such change is the education of the, construction workforce in terms of managerial, skills, such as, developing communication, skills, knowledge of other organisations, operating in the construction supply chain, and the potential benefits of partnering. The, Construction Industry Training Board, the, national training organisation for the, industry, is well aware of the need to train for, soft skills and has begun to develop initiatives, in this direction (Barrie, 1999)., 176, Pre-construction project partnering, Supply Chain Management: An International Journal, Paul Humphreys, Jason Matthews and Monan Kumaraswamy, Volume 8 . Number 2 . 2003 . 166-178, can adopt an incremental approach to, Journal of Purchasing and Supply Management,, implementing a partnership relationship., Vol. 3 No. 3, pp. 127-35., Crane, T., Felder, J., Thompson, P., Thompson, M. and, The foregoing observations from the case, Sanders, S. (1997), ``Partnering process model'',, study confirmed the value of integrating SCs, Journal of Management in Engineering, Vol. 13, into partnering arrangements. It is also, No. 3, pp. 57-62., consistent with the general philosophy of, Crowley, L. and Karim, M. (1995), ``Conceptual model of, partnering ± in integrating all key participants, partnering'', Journal of Management in Engineering,, and inculcating a common sense of project, Vol. 11 No. 5, pp. 33-9., Dainty, A., Briscoe, G. and Millet, S. (2001), ``New, purpose, commitment, teamworking and, perspectives on construction supply chain, problem-solving. This established need for, integration'', Supply Chain Management ± An, MC-SC partnering must therefore be, International Journal, Vol. 6 No. 4, pp. 163-73., incorporated in the SC selection criteria and, Egan, J. (1998), Rethinking Construction, Department of, reflected in the selection process itself. The, the Environment, London., Ellram, L. (1991), ``A managerial guideline for the, case study described in this paper, development and implementation of purchasing, demonstrates a successful application in this, partnerships'', International Journal of Purchasing, respect. The increasing importance of, and Materials Management, Summer, pp. 10-16., construction subcontracting thus reinforces, Harbuck, H., Basham, D. and Buhts, R.E (1994),, the criticality of comprehensive selection, ``Partnering paradigm'', Journal of Management in, methodologies that draw on experiences from, Engineering, January/February, pp. 23-7., Downloaded by University of East Anglia At 01:45 31 May 2019 (PT), Harland, C. (1996), ``Supply chain management:, other parts of the supply chain, while, relationships, chains and networks'', British Journal, developing appropriate arrangements that, of Management, Vol. 7, special issue, pp. S63-S80., would enhance the overall effectiveness and, Harland, C., Lamming, R. and Cousins, P. (1999)., efficiency of the total construction project, ``Developing the concept of supply strategy'',, team., International Journal of Operations & Production, Management, Vol. 19 No. 7, pp. 650-73., Hayward, D. (1999), ``Setting store'', New Civil Engineer,, Movement for Innovation Supplement, November,, References, pp. 24-5., Hinze, J. and Tracey, A. (1994), ``The contractor-, Associated General Contractors of America (AGC) (1991),, subcontractor relationship: the subcontractors, Partnering: A Concept For Success, AGC,, view'', Journal of Construction Engineering and, Washington, USA., Management, Vol. 120 No. 2, pp. 254-87., A.T. Kearney (1994), Partnership or Powerplay?,, Jamieson, M., Thorpe, A. and Tyler, A. (1996), ``Refocusing, A.T. Kearney, London., collaboration technologies in the construction value, Barlow, J. and Jashapara, A. (1998), ``Organisational, system'', Proceedings of the CIB W78 Conference, learning and inter-firm partnering in the UK, Construction on the Information Superhighway,, construction industry'', The Learning Organisation,, Slovenia, April, pp. 279-89., Vol. 5 No. 2, pp. 86-98., Kubal, M. (1994), Engineering Quality in Construction:, Barrie, G. (1999), ``Majors submit Egan-style training, Partnering and TQM, McGraw-Hill, New York, NY., plans'', Building, Vol. 264 No. 34, p. 12., Lamming, R. (1994), A Review of the Relationship, Briscoe, G., Dainty, A. and Millet, S. (2001), ``Construction, Between Vehicle Manufacturers and Suppliers,, supply chain partnerships: skills, knowledge and, DTI/SMMT, London., attitudinal requirements'', European Journal of, Larson, E. (1995), ``Project partnering: results of study of, Purchasing and Supply Management, Vol. 7,, 280 construction projects, Journal of Management, pp. 243-55., in Engineering, Vol. 11 No. 2, pp. 30-5., Burnes, B. and New, S. (1996), Strategic Advantage and, Latham, M. (1994), Constructing the Team, HMSO,, Supply Chain Collaboration, A.T. Kearney, London., London., Carr, C. and Truesdale, T. (1992), ``Lessons from Nissan's, McIvor, R., Humphreys, P. and McAleer, E. (1997),, British suppliers'', International Journal of, ``Implications of partnership sourcing on buyer-, Operations & Production Management, Vol. 12, supplier relations'', Journal of General, No. 2, pp. 49-57., Management, Vol. 23 No. 1, pp. 53-70., Construction Industry Institute (CII) (1991), In Search of, Macbeth, D. and Ferguson, N. (1994), Partnership, Partnering Excellence, Special Publication 17-1., Sourcing: An Integrated Supply Chain Approach,, Cook, E. and Hancher, D. (1990), ``Partnering: contracting, Pitman, London., for the future'', Journal of Management in, Matthews, J. (1996), ``A project partnering approach to, Engineering, Vol. 6 No. 4, pp. 431-46., the main contractor ± sub-contractor relationship'',, Confederation of Construction Specialists (1992),, PhD thesis, Loughborough University,, Corruption of the Commercial Process,, Loughborough., CCS Services, London., Moore, C., Mosley, D. and Slagle, M. (1992), ``Partnering:, Cox, A. and Thompson, I. (1997), ``Fit for purpose, guidelines for win-win project management'',, contractual relations: determining a theoretical, Project Management Journal, Vol. 23 No. 1,, framework for construction projects'', European, pp. 18-21., 177\""
            ]
          },
          "metadata": {
            "tags": []
          },
          "execution_count": 6
        }
      ]
    },
    {
      "cell_type": "markdown",
      "metadata": {
        "id": "5uEz0p_xSf5f"
      },
      "source": [
        "It has only two columns - a unique ID and the text of the whole article. An exemplary text is shown above. \n",
        "\n",
        "Texts were preprocessed before so the 'cover page' and most of the list of references pages were removed. "
      ]
    },
    {
      "cell_type": "markdown",
      "metadata": {
        "id": "I6p6UJPuToIE"
      },
      "source": [
        "## Data processing\n",
        "\n",
        "First, let's pre-process the data mostly following the fast-ai notebook but also adding some additional steps."
      ]
    },
    {
      "cell_type": "code",
      "metadata": {
        "id": "PC3SIKE74f3j"
      },
      "source": [
        "# remove digits from the text\n",
        "full_texts['text'] = full_texts['text'].str.replace('\\d+', '') # for digits\n",
        "full_texts['text'] = full_texts['text'].str.replace('[^\\w\\s]', '') # for punctuation \n",
        "# this is too drastic - I need to remove standalone digits, but should leave digits which are part of terms, such as '3pl/4pl', or 'industry 4.0'"
      ],
      "execution_count": null,
      "outputs": []
    },
    {
      "cell_type": "markdown",
      "metadata": {
        "id": "H8hAkIvcTrxU"
      },
      "source": [
        "Add corpus-relevant stop words to the original sklearn list."
      ]
    },
    {
      "cell_type": "code",
      "metadata": {
        "id": "CgtssGS70Lp8"
      },
      "source": [
        "# create a list with additional stop words\n",
        "my_additional_stop_words = [\"0\", \"1\", \"2\", \"3\", \"4\", \"5\", \"6\", \"7\",\n",
        "                  \"0 0 0\", \"1 1 1\", \"0.0\", \"0.0 0.0\", \"0.0 0.0 0.0\", \"1.00\", \"1.00 1.00\", \"0.000 0.000 0.000\", \"0.000 0.000\", \"0.000\",\n",
        "                  \"0.061\", \"1.33\", \"01 54 31\", \"121\", \"0.082\", \"35\", \"34\", \"0.68\",\n",
        "                  \"e\", \"cc\", \"p\", \"r\", \"cl\", \"cf\", \"et\", \"al\", \"\",\n",
        "                  \"w2\", \"hf\",  \"j5\", \"6x\", \"7h\", \"i4\", \"v4\", \"n1\", \"0y\", \"b1\", \"w5\", \"x1\", \"x2\", \"x3\", \"c5\", \"w.y\", \"6t\", \"r4\", \"m1\", \"t2\", \"t1\", \"t3\",\n",
        "                  \"7y\", \"7yv\",\n",
        "                  \"e.g\", \"e.g.\", \"article\", \"articles\", \"research\", \"paper\", \"papers\", \"study\", \"studies\", \"table\", \"journal\", \"practical\", \"implications\",\n",
        "                  \"introduction\", \"discussion\", \"methodology\", \"results\", \"conclusions\", \"conclusion\", \"abstract\", \"volume\", \"vol\", \"volumes\"]\n",
        "\n",
        "# import the text object to extract the list of sklearn stop words\n",
        "from sklearn.feature_extraction import text \n",
        "stop_words = text.ENGLISH_STOP_WORDS.union(my_additional_stop_words)"
      ],
      "execution_count": null,
      "outputs": []
    },
    {
      "cell_type": "markdown",
      "metadata": {
        "id": "TYu2h6UHH1Kh"
      },
      "source": [
        "Setup and run the vectorizer"
      ]
    },
    {
      "cell_type": "code",
      "metadata": {
        "id": "wWRho55DTqMs"
      },
      "source": [
        "vectorizer = TfidfVectorizer(stop_words=stop_words, ngram_range=(1,3), min_df=0.01)"
      ],
      "execution_count": null,
      "outputs": []
    },
    {
      "cell_type": "code",
      "metadata": {
        "colab": {
          "base_uri": "https://localhost:8080/"
        },
        "id": "fT7FZ3khT1P_",
        "outputId": "7fc84cd9-c079-4b98-8367-f4d1764998c7"
      },
      "source": [
        "vectors = vectorizer.fit_transform(full_texts['text']).todense()\n",
        "vectors.shape"
      ],
      "execution_count": null,
      "outputs": [
        {
          "output_type": "stream",
          "text": [
            "/usr/local/lib/python3.6/dist-packages/sklearn/feature_extraction/text.py:385: UserWarning: Your stop_words may be inconsistent with your preprocessing. Tokenizing the stop words generated tokens ['00', '000', '01', '061', '082', '31', '33', '54', '68'] not in stop_words.\n",
            "  'stop_words.' % sorted(inconsistent))\n"
          ],
          "name": "stderr"
        },
        {
          "output_type": "execute_result",
          "data": {
            "text/plain": [
              "(898, 41565)"
            ]
          },
          "metadata": {
            "tags": []
          },
          "execution_count": 31
        }
      ]
    },
    {
      "cell_type": "code",
      "metadata": {
        "colab": {
          "base_uri": "https://localhost:8080/"
        },
        "id": "ljHqPBBvUGY9",
        "outputId": "f7220166-7b9a-4365-8979-51a0e8f42d25"
      },
      "source": [
        "vocab = np.array(vectorizer.get_feature_names())\n",
        "vocab.shape"
      ],
      "execution_count": null,
      "outputs": [
        {
          "output_type": "execute_result",
          "data": {
            "text/plain": [
              "(41565,)"
            ]
          },
          "metadata": {
            "tags": []
          },
          "execution_count": 65
        }
      ]
    },
    {
      "cell_type": "markdown",
      "metadata": {
        "id": "o3ZnlTqnH4l0"
      },
      "source": [
        "View some of the terms."
      ]
    },
    {
      "cell_type": "code",
      "metadata": {
        "colab": {
          "base_uri": "https://localhost:8080/"
        },
        "id": "jii1mKctUUxX",
        "outputId": "9195825b-79ae-4442-9143-9a7c39812302"
      },
      "source": [
        "vocab[5500:5530]"
      ],
      "execution_count": null,
      "outputs": [
        {
          "output_type": "execute_result",
          "data": {
            "text/plain": [
              "array(['chapters', 'charac', 'character', 'characterisation',\n",
              "       'characterise', 'characterised', 'characterised high',\n",
              "       'characterises', 'characterising', 'characteristic',\n",
              "       'characteristics', 'characteristics associated',\n",
              "       'characteristics business', 'characteristics demand',\n",
              "       'characteristics different', 'characteristics firm',\n",
              "       'characteristics industry', 'characteristics market',\n",
              "       'characteristics mitigation', 'characteristics performance',\n",
              "       'characteristics product', 'characteristics products',\n",
              "       'characteristics relationship', 'characteristics respondents',\n",
              "       'characteristics supplier', 'characteristics supply',\n",
              "       'characteristics supply chain', 'characteristics used',\n",
              "       'characterization', 'characterize'], dtype='<U39')"
            ]
          },
          "metadata": {
            "tags": []
          },
          "execution_count": 66
        }
      ]
    },
    {
      "cell_type": "code",
      "metadata": {
        "id": "eb3ibSa2FNw9"
      },
      "source": [
        "from nltk import stem\n",
        "porter = stem.porter.PorterStemmer()"
      ],
      "execution_count": null,
      "outputs": []
    },
    {
      "cell_type": "code",
      "metadata": {
        "colab": {
          "base_uri": "https://localhost:8080/"
        },
        "id": "jpVdQo61FTkN",
        "outputId": "cf36c409-0e8b-4364-e9d6-3ce3ce863547"
      },
      "source": [
        "[porter.stem(word) for word in vocab[5500:5530]]"
      ],
      "execution_count": null,
      "outputs": [
        {
          "output_type": "execute_result",
          "data": {
            "text/plain": [
              "['chapter',\n",
              " 'charac',\n",
              " 'charact',\n",
              " 'characteris',\n",
              " 'characteris',\n",
              " 'characteris',\n",
              " 'characterised high',\n",
              " 'characteris',\n",
              " 'characteris',\n",
              " 'characterist',\n",
              " 'characterist',\n",
              " 'characteristics associ',\n",
              " 'characteristics busi',\n",
              " 'characteristics demand',\n",
              " 'characteristics differ',\n",
              " 'characteristics firm',\n",
              " 'characteristics industri',\n",
              " 'characteristics market',\n",
              " 'characteristics mitig',\n",
              " 'characteristics perform',\n",
              " 'characteristics product',\n",
              " 'characteristics product',\n",
              " 'characteristics relationship',\n",
              " 'characteristics respond',\n",
              " 'characteristics suppli',\n",
              " 'characteristics suppli',\n",
              " 'characteristics supply chain',\n",
              " 'characteristics us',\n",
              " 'character',\n",
              " 'character']"
            ]
          },
          "metadata": {
            "tags": []
          },
          "execution_count": 76
        }
      ]
    },
    {
      "cell_type": "markdown",
      "metadata": {
        "id": "Id72umr8U_Ny"
      },
      "source": [
        "### Set up the Lemma Tokenizer."
      ]
    },
    {
      "cell_type": "code",
      "metadata": {
        "id": "HjLlChu9VCYy"
      },
      "source": [
        "from nltk import word_tokenize          \n",
        "from nltk.stem import WordNetLemmatizer \n",
        "class LemmaTokenizer(object):\n",
        "    def __init__(self):\n",
        "        self.wnl = WordNetLemmatizer()\n",
        "    def __call__(self, articles):\n",
        "        return [self.wnl.lemmatize(t) for t in word_tokenize(articles)]"
      ],
      "execution_count": null,
      "outputs": []
    },
    {
      "cell_type": "code",
      "metadata": {
        "id": "j7w9YPCHWJt5",
        "colab": {
          "base_uri": "https://localhost:8080/"
        },
        "outputId": "815aaff2-ca34-450b-d2f0-cf27d5cab599"
      },
      "source": [
        "# download the necessary nltk resources\n",
        "nltk.download('punkt')\n",
        "nltk.download('wordnet')"
      ],
      "execution_count": null,
      "outputs": [
        {
          "output_type": "stream",
          "text": [
            "[nltk_data] Downloading package punkt to /root/nltk_data...\n",
            "[nltk_data]   Unzipping tokenizers/punkt.zip.\n",
            "[nltk_data] Downloading package wordnet to /root/nltk_data...\n",
            "[nltk_data]   Unzipping corpora/wordnet.zip.\n"
          ],
          "name": "stdout"
        },
        {
          "output_type": "execute_result",
          "data": {
            "text/plain": [
              "True"
            ]
          },
          "metadata": {
            "tags": []
          },
          "execution_count": 14
        }
      ]
    },
    {
      "cell_type": "code",
      "metadata": {
        "id": "ERvI9pnsVnBM"
      },
      "source": [
        "vectorizer_lemma = TfidfVectorizer(stop_words=stop_words, tokenizer=LemmaTokenizer(), ngram_range=(1,3), min_df=0.01)"
      ],
      "execution_count": null,
      "outputs": []
    },
    {
      "cell_type": "code",
      "metadata": {
        "colab": {
          "base_uri": "https://localhost:8080/"
        },
        "id": "b3liUd-UV1Pi",
        "outputId": "a70d68bd-b157-4b9b-d696-221641512c1d"
      },
      "source": [
        "vectors_lemma = vectorizer_lemma.fit_transform(full_texts['text']).todense()\n",
        "vectors_lemma.shape"
      ],
      "execution_count": null,
      "outputs": [
        {
          "output_type": "execute_result",
          "data": {
            "text/plain": [
              "(898, 45632)"
            ]
          },
          "metadata": {
            "tags": []
          },
          "execution_count": 58
        }
      ]
    },
    {
      "cell_type": "code",
      "metadata": {
        "colab": {
          "base_uri": "https://localhost:8080/"
        },
        "id": "hVppHdCAWoT2",
        "outputId": "9f600033-3246-4f56-e858-530289f085f5"
      },
      "source": [
        "vocab_lemma = np.array(vectorizer_lemma.get_feature_names())\n",
        "vocab_lemma.shape"
      ],
      "execution_count": null,
      "outputs": [
        {
          "output_type": "execute_result",
          "data": {
            "text/plain": [
              "(45632,)"
            ]
          },
          "metadata": {
            "tags": []
          },
          "execution_count": 59
        }
      ]
    },
    {
      "cell_type": "code",
      "metadata": {
        "colab": {
          "base_uri": "https://localhost:8080/"
        },
        "id": "o3P7jMgUWre4",
        "outputId": "842b32cb-e67e-4b16-e898-be67c6309a17"
      },
      "source": [
        "vocab_lemma[5812:5842]"
      ],
      "execution_count": null,
      "outputs": [
        {
          "output_type": "execute_result",
          "data": {
            "text/plain": [
              "array(['chapter', 'charac', 'character', 'characterisation',\n",
              "       'characterise', 'characterised', 'characterised high',\n",
              "       'characterises', 'characterising', 'characteristic',\n",
              "       'characteristic affect', 'characteristic associated',\n",
              "       'characteristic business', 'characteristic company',\n",
              "       'characteristic customer', 'characteristic demand',\n",
              "       'characteristic different', 'characteristic firm',\n",
              "       'characteristic important', 'characteristic industry',\n",
              "       'characteristic market', 'characteristic mitigation',\n",
              "       'characteristic number', 'characteristic organization',\n",
              "       'characteristic performance', 'characteristic product',\n",
              "       'characteristic relationship', 'characteristic respondent',\n",
              "       'characteristic sample', 'characteristic supplier'], dtype='<U47')"
            ]
          },
          "metadata": {
            "tags": []
          },
          "execution_count": 64
        }
      ]
    },
    {
      "cell_type": "markdown",
      "metadata": {
        "id": "qCsHPaZqY4H2"
      },
      "source": [
        "## SVD"
      ]
    },
    {
      "cell_type": "markdown",
      "metadata": {
        "id": "35gPoZe8Y5no"
      },
      "source": [
        "Fit SVD."
      ]
    },
    {
      "cell_type": "code",
      "metadata": {
        "colab": {
          "base_uri": "https://localhost:8080/"
        },
        "id": "WP_isZzhY6ME",
        "outputId": "49514340-3fe0-431e-ab95-9101c1265555"
      },
      "source": [
        "%time U, s, Vh = linalg.svd(vectors, full_matrices=False)"
      ],
      "execution_count": null,
      "outputs": [
        {
          "output_type": "stream",
          "text": [
            "CPU times: user 44.6 s, sys: 3.55 s, total: 48.2 s\n",
            "Wall time: 25 s\n"
          ],
          "name": "stdout"
        }
      ]
    },
    {
      "cell_type": "code",
      "metadata": {
        "colab": {
          "base_uri": "https://localhost:8080/"
        },
        "id": "BXfZOcd1ZfGT",
        "outputId": "b8534578-0ddc-492c-80d8-521865d80d34"
      },
      "source": [
        "print(U.shape, s.shape, Vh.shape)"
      ],
      "execution_count": null,
      "outputs": [
        {
          "output_type": "stream",
          "text": [
            "(898, 898) (898,) (898, 66058)\n"
          ],
          "name": "stdout"
        }
      ]
    },
    {
      "cell_type": "code",
      "metadata": {
        "colab": {
          "base_uri": "https://localhost:8080/",
          "height": 265
        },
        "id": "2s7Nk7dDZqDq",
        "outputId": "eef28145-f342-497d-c06b-0b4edcb68e4a"
      },
      "source": [
        "plt.plot(s);"
      ],
      "execution_count": null,
      "outputs": [
        {
          "output_type": "display_data",
          "data": {
            "image/png": "[encoded data removed]",
            "text/plain": [
              "<Figure size 432x288 with 1 Axes>"
            ]
          },
          "metadata": {
            "tags": [],
            "needs_background": "light"
          }
        }
      ]
    },
    {
      "cell_type": "code",
      "metadata": {
        "colab": {
          "base_uri": "https://localhost:8080/",
          "height": 282
        },
        "id": "jU1qIHYfZtdn",
        "outputId": "743b43ad-a568-48c0-89be-75bf893cb9ca"
      },
      "source": [
        "plt.plot(s[:10])"
      ],
      "execution_count": null,
      "outputs": [
        {
          "output_type": "execute_result",
          "data": {
            "text/plain": [
              "[<matplotlib.lines.Line2D at 0x7f74f67f0780>]"
            ]
          },
          "metadata": {
            "tags": []
          },
          "execution_count": 16
        },
        {
          "output_type": "display_data",
          "data": {
            "image/png": "[encoded data removed]",
            "text/plain": [
              "<Figure size 432x288 with 1 Axes>"
            ]
          },
          "metadata": {
            "tags": [],
            "needs_background": "light"
          }
        }
      ]
    },
    {
      "cell_type": "code",
      "metadata": {
        "id": "FtLaG2mHZwHf"
      },
      "source": [
        "num_top_words=10\n",
        "\n",
        "def show_topics(a):\n",
        "    top_words = lambda t: [vocab[i] for i in np.argsort(t)[:-num_top_words-1:-1]]\n",
        "    topic_words = ([top_words(t) for t in a])\n",
        "    return [' '.join(t) for t in topic_words]"
      ],
      "execution_count": null,
      "outputs": []
    },
    {
      "cell_type": "code",
      "metadata": {
        "colab": {
          "base_uri": "https://localhost:8080/"
        },
        "id": "kA3C25KXZxGb",
        "outputId": "fd1fe585-3571-441f-bf42-e3c3c6b3fb2d"
      },
      "source": [
        "show_topics(Vh[:10])"
      ],
      "execution_count": null,
      "outputs": [
        {
          "output_type": "execute_result",
          "data": {
            "text/plain": [
              "['hectic paperclips typesetting divested normanton tupe sandy truths',\n",
              " 'supply chain product demand information chains order planning',\n",
              " 'supply fb01 chain et al resilience chains risk',\n",
              " 'al et 2d31 performance integration environmental green logistics',\n",
              " 'performance supplier integration chain supply customer relationship suppliers',\n",
              " 'supplier suppliers supply risk social power buyer risks',\n",
              " 'logistics performance fb01 service integration customer information cost',\n",
              " 'performance management sustainability environmental practices social risk logistics',\n",
              " 'practices environmental sustainability product green social fb01 firms',\n",
              " 'product risk 2d31 quality practices green food products']"
            ]
          },
          "metadata": {
            "tags": []
          },
          "execution_count": 18
        }
      ]
    },
    {
      "cell_type": "markdown",
      "metadata": {
        "id": "1iVqKDvJemuC"
      },
      "source": [
        "## NMF"
      ]
    },
    {
      "cell_type": "code",
      "metadata": {
        "id": "VD21ZzIaelzM"
      },
      "source": [
        "m,n=vectors.shape\n",
        "d=80  # number of topics - do 80 as in my previous analysis"
      ],
      "execution_count": null,
      "outputs": []
    },
    {
      "cell_type": "code",
      "metadata": {
        "id": "Wo6UIQ4detVY"
      },
      "source": [
        "clf = decomposition.NMF(n_components=d, random_state=1)\n",
        "\n",
        "W1 = clf.fit_transform(vectors)\n",
        "H1 = clf.components_"
      ],
      "execution_count": null,
      "outputs": []
    },
    {
      "cell_type": "code",
      "metadata": {
        "id": "5D5wn32w6SV4"
      },
      "source": [
        "# define the function to return top 10 terms for each topic\n",
        "num_top_words=10\n",
        "\n",
        "def show_topics(a):\n",
        "    top_words = lambda t: [vocab[i] for i in np.argsort(t)[:-num_top_words-1:-1]]\n",
        "    topic_words = ([top_words(t) for t in a])\n",
        "    return [', '.join(t) for t in topic_words]"
      ],
      "execution_count": null,
      "outputs": []
    },
    {
      "cell_type": "code",
      "metadata": {
        "colab": {
          "base_uri": "https://localhost:8080/"
        },
        "id": "CXwXX_Dgg6CX",
        "outputId": "83ff4872-88b4-4ff5-ad17-66b1bcab5500"
      },
      "source": [
        "show_topics(H1)"
      ],
      "execution_count": null,
      "outputs": [
        {
          "output_type": "execute_result",
          "data": {
            "text/plain": [
              "['supply, chain, supply chain, management, chains, chain management, supply chains, supply chain management, strategy, information',\n",
              " 'fb, fb rms, rms, fb rm, rm, signi, signi fb, speci fb, speci, fb ed',\n",
              " 'supplier, suppliers, buyer, supplier development, relationship, development, buying firm, management, relationships, buying',\n",
              " 'green, environmental, green purchasing, green supply, management, supply, environmental management, greening, environmental performance, energy',\n",
              " 'sustainability, sscm, sustainable, social, environmental, social sustainability, sustainable supply, practices, supply, sustainability performance',\n",
              " 'auctions, online reverse, reverse auctions, auction, online, reverse, online reverse auctions, emiliani, stec, reverse auction',\n",
              " 'construction, contractors, client, construction supply, construction industry, contractor, project, subcontractors, construction supply chain, partnering',\n",
              " 'logistics, transportation, management, transport, freight, distribution, firms, carriers, carrier, intermodal',\n",
              " 'integration, chain integration, supply chain integration, supplier integration, internal integration, external integration, customer integration, external, internal, performance',\n",
              " 'complexity, chain complexity, supply chain complexity, disruptions, reliability, supply, disruption, bu, organisational systems, delivery',\n",
              " 'risk, risks, scrm, risk management, chain risk, supply chain risk, supply, mitigation, chain, supply chain',\n",
              " 'information, sharing, information sharing, sharing supply, information sharing supply, supply, sharing supply chains, chain, connectivity, sharing supply chain',\n",
              " 'sc, scs, sc integration, sn, sc performance, sc strategy, difficulties, ambidexterity, overall sc, organic',\n",
              " 'reverse, reverse logistics, logistics, returns, reverse supply, loop, closed loop, closed, recycling, product',\n",
              " 'performance, measurement, performance measurement, measures, chain performance, indicators, supply chain performance, chain, management, performance measures',\n",
              " 'rl, medicines, waste, recycling, pharmaceutical, household, afd, barriers, reverse, medication',\n",
              " 'resilience, chain resilience, supply chain resilience, disruptions, disruption, supply, chain, supply chain, resilience supply, afd',\n",
              " 'pl, pl providers, ic, logistics, providers, pls, provider, pl provider, services, logistics services',\n",
              " 'patient, care, health, health care, patients, hospital, healthcare, hospitals, pharmacy, medical',\n",
              " 'outsourcing, core, outsourced, competence, activities, outsource, company, outsourcing decision, outsourcing process, decision',\n",
              " 'beef, cattle, meat, beef industry, producers, animals, animal, cow, consumers, livestock',\n",
              " 'supply risk, supply risk management, risk, risk management, supply, intermediary, intermediaries, management, sco, sourcing',\n",
              " 'humanitarian, relief, humanitarian supply, disaster, aid, humanitarian aid, humanitarian supply chain, disaster relief, humanitarian logistics, aid supply',\n",
              " 'firm, firms, performance, model, orientation, constructs, items, flexibility, market orientation, fit',\n",
              " 'ethics, ethical, corporate, business, sm, responsibility, svensson, social responsibility, business operations, companies',\n",
              " 'csr, social, social responsibility, responsibility, suppliers, ikea, environmental, csr supply, corporate social, corporate',\n",
              " 'cpfr, forecasting, replenishment, forecast, planning, demand, collaborative, sales, agricultural, agricultural products',\n",
              " 'carbon, low carbon, energy, emissions, low, climate, climate change, carbon emissions, energy consumption, consumption',\n",
              " 'service, service supply, customer, services, service supply chains, service supply chain, lsp, customers, provider, service quality',\n",
              " 'rfid, rfid technology, tags, adoption, technology, tag, wireless, chain, supply, supply chain',\n",
              " 'retailers, retailer, retail, grocery, store, toy, greek, distribution, channel, stores',\n",
              " 'blockchain, fb, smart, technology, eld, fb eld, supply, security, transactions, bene fb',\n",
              " 'scm, management, supply, chain, chain management, supply chain, supply chain management, scm practices, sustainable scm, execution',\n",
              " 'edi, edi systems, electronic, interchange, congruence, electronic data, pos, data interchange, electronic data interchange, systems',\n",
              " 'dea, vendor, vendors, dea model, envelopment, efficiency, dmu, envelopment analysis, weber, data envelopment',\n",
              " 'trust, relationship, relationships, partner, commitment, satisfaction, partners, growers, organizational trust, communication',\n",
              " 'china, chinese, japanese, foreign, labor, china supply chain, china supply, firms, local, cost',\n",
              " 'fb fb fb, fb fb, fb, ðþ, polluting, migration, model, retailer, breeding, cost',\n",
              " 'food, food supply, food supply chains, food industry, chains, traceability, agri, agri food, chain, food safety',\n",
              " 'lean, lean production, agile, production, lean supply, toyota, lean agile, lean manufacturing, machining, practices',\n",
              " 'collaboration, collaborative, chain collaboration, supply chain collaboration, horizontal, horizontal collaboration, joint, chain, partners, collaboration supply',\n",
              " 'port, ports, transport, maritime, cargo, rail, iron, steel, terminal, security',\n",
              " 'afa, afa afa, afd, afa afa afa, af, bd, subsidy, traceability, fp, green',\n",
              " 'ecr, category, docking, category management, birds, cross docking, consumer, grocery, grocery industry, retailers',\n",
              " 'procurement, catalog, procurement systems, catalogs, use procurement, firms, auctions, suppliers, applications, purchasing',\n",
              " 'value, value chain, vca, chain, houston, management, consumer, wine, value chain analysis, value chain management',\n",
              " 'learning, knowledge, routines, organisational learning, organisation, organisational, chain learning, learning supply, organisations, supply chain learning',\n",
              " 'fresh, fresh produce, fruit, sainsbury, produce, growers, vegetables, vegetable, supermarkets, supermarket',\n",
              " 'quality, qm, quality management, management, practices, companies, product quality, chain, supplier quality, product',\n",
              " 'product, products, design, new product, product development, new, fisher, npd, demand, development',\n",
              " 'skills, students, education, management, programmes, skill, logistics, var, graduate, curriculum',\n",
              " 'commerce, internet, business, bb, web, information, electronic, online, electronic commerce, intangible assets',\n",
              " 'contract, contract manufacturer, contract manufacturers, manufacturer, manufacturers, wallace, profiling, instrument, manufacture, supply',\n",
              " 'music, news, social, media, cities, social media, newspaper, digital, community, newspapers',\n",
              " 'maturity, maturity model, model, scor, process, mccormack, maturity level, level, models, business',\n",
              " 'smes, sme, percent, firms, companies, business, management, small, les, customers',\n",
              " 'ahp, criteria, decision, selection, fuzzy, supplier selection, supplier, weights, hierarchy, tco',\n",
              " 'power, buyer, cox, buyers, andrew cox, sourcing, relationships, relationship, win, power regime',\n",
              " 'gscm, environmental, social capital, performance, gscm practices, zhu, green, green supply chain, capital, social',\n",
              " 'purchasing, purchasing supply, purchasing group, management, accounting, standardization, cost, organisations, purchasing performance, suppliers',\n",
              " 'sci, integration, performance, culture, sci performance, customer integration, ci, organizational culture, fp, huo',\n",
              " 'iot, big data, data, big, smart, disruptive, literature, cities, systematic, technologies',\n",
              " 'coffee, farmers, fair trade, fair, trade, dairy, producers, milk, nespresso, sco',\n",
              " 'hrm, volvo, suppliers, companies, jit, forum, japanese, cars, hr, automotive',\n",
              " 'bullwhip, demand, bullwhip effect, towill, amplification, orders, effect, smoothing, replenishment, cake',\n",
              " 'pork, meat, pig, danish, canadian, producers, abattoirs, pigs, chain, processors',\n",
              " 'knowledge, network, node, networks, innovation, social, redundancy, supply network, sn, transfer',\n",
              " 'modular, tier, suppliers, module, tier suppliers, modularity, oem, product architecture, supply, automotive',\n",
              " 'anglia june pt, anglia june, june pt, east anglia june, june, tion, ment, ing, new, sales',\n",
              " 'inventory, time, demand, order, production, orders, stock, cost, delivery, customer',\n",
              " 'scp, innovativeness, supply, chain, model, supply chain, programming, partnership, embeddedness, assessment',\n",
              " 'public, public sector, sector, government, local, public procurement, sp, sustainable, procurement, local government',\n",
              " 'theory, theories, agency, agency theory, management, discipline, pat, resource, theoretical, rbv',\n",
              " 'project, projects, partnering, team, process, change, management, company, implementation, design',\n",
              " 'agility, agile, chain agility, supply chain agility, agile supply, flexibility, demand, agile supply chain, logistics capabilities, christopher',\n",
              " 'sourcing, global sourcing, global, cost, sourcing process, era, costs, cent, companies, company',\n",
              " 'alignment, shareholder, customer, chain alignment, sa, supply chain alignment, ca, shareholder value, bp, steel',\n",
              " 'scottish, traceability, assurance, farm, food, scheme, scotland, quality assurance, quality, grain',\n",
              " 'transaction, vertical, costs, governance, transaction costs, varieties, vertical ordination, ordination, grain, market',\n",
              " 'ko, mi, es, om, ke, tx, en, ye, ei, ex']"
            ]
          },
          "metadata": {
            "tags": []
          },
          "execution_count": 49
        }
      ]
    },
    {
      "cell_type": "markdown",
      "metadata": {
        "id": "me_hB3EY_HZf"
      },
      "source": [
        "## NMF on lemmatized corpus\n"
      ]
    },
    {
      "cell_type": "code",
      "metadata": {
        "id": "XfKEtux7_Kwf"
      },
      "source": [
        "m,n=vectors.shape\n",
        "d=80  # number of topics - do 80 as in my previous analysis"
      ],
      "execution_count": null,
      "outputs": []
    },
    {
      "cell_type": "code",
      "metadata": {
        "id": "tVzHd3QO_Ttx"
      },
      "source": [
        "clf = decomposition.NMF(n_components=d, random_state=1)\n",
        "\n",
        "W1_lemma = clf.fit_transform(vectors_lemma)\n",
        "H1_lemma = clf.components_"
      ],
      "execution_count": null,
      "outputs": []
    },
    {
      "cell_type": "code",
      "metadata": {
        "colab": {
          "base_uri": "https://localhost:8080/",
          "height": 307
        },
        "id": "rXcd7cm7_b4G",
        "outputId": "47e753a7-e006-4a41-b617-b5a76f66506b"
      },
      "source": [
        "show_topics(H1_lemma)"
      ],
      "execution_count": null,
      "outputs": [
        {
          "output_type": "error",
          "ename": "IndexError",
          "evalue": "ignored",
          "traceback": [
            "\u001b[0;31m---------------------------------------------------------------------------\u001b[0m",
            "\u001b[0;31mIndexError\u001b[0m                                Traceback (most recent call last)",
            "\u001b[0;32m<ipython-input-71-6e806f164b3c>\u001b[0m in \u001b[0;36m<module>\u001b[0;34m()\u001b[0m\n\u001b[0;32m----> 1\u001b[0;31m \u001b[0mshow_topics\u001b[0m\u001b[0;34m(\u001b[0m\u001b[0mH1_lemma\u001b[0m\u001b[0;34m)\u001b[0m\u001b[0;34m\u001b[0m\u001b[0;34m\u001b[0m\u001b[0m\n\u001b[0m",
            "\u001b[0;32m<ipython-input-70-dba2990f4f1c>\u001b[0m in \u001b[0;36mshow_topics\u001b[0;34m(a)\u001b[0m\n\u001b[1;32m      4\u001b[0m \u001b[0;32mdef\u001b[0m \u001b[0mshow_topics\u001b[0m\u001b[0;34m(\u001b[0m\u001b[0ma\u001b[0m\u001b[0;34m)\u001b[0m\u001b[0;34m:\u001b[0m\u001b[0;34m\u001b[0m\u001b[0;34m\u001b[0m\u001b[0m\n\u001b[1;32m      5\u001b[0m     \u001b[0mtop_words\u001b[0m \u001b[0;34m=\u001b[0m \u001b[0;32mlambda\u001b[0m \u001b[0mt\u001b[0m\u001b[0;34m:\u001b[0m \u001b[0;34m[\u001b[0m\u001b[0mvocab\u001b[0m\u001b[0;34m[\u001b[0m\u001b[0mi\u001b[0m\u001b[0;34m]\u001b[0m \u001b[0;32mfor\u001b[0m \u001b[0mi\u001b[0m \u001b[0;32min\u001b[0m \u001b[0mnp\u001b[0m\u001b[0;34m.\u001b[0m\u001b[0margsort\u001b[0m\u001b[0;34m(\u001b[0m\u001b[0mt\u001b[0m\u001b[0;34m)\u001b[0m\u001b[0;34m[\u001b[0m\u001b[0;34m:\u001b[0m\u001b[0;34m-\u001b[0m\u001b[0mnum_top_words\u001b[0m\u001b[0;34m-\u001b[0m\u001b[0;36m1\u001b[0m\u001b[0;34m:\u001b[0m\u001b[0;34m-\u001b[0m\u001b[0;36m1\u001b[0m\u001b[0;34m]\u001b[0m\u001b[0;34m]\u001b[0m\u001b[0;34m\u001b[0m\u001b[0;34m\u001b[0m\u001b[0m\n\u001b[0;32m----> 6\u001b[0;31m     \u001b[0mtopic_words\u001b[0m \u001b[0;34m=\u001b[0m \u001b[0;34m(\u001b[0m\u001b[0;34m[\u001b[0m\u001b[0mtop_words\u001b[0m\u001b[0;34m(\u001b[0m\u001b[0mt\u001b[0m\u001b[0;34m)\u001b[0m \u001b[0;32mfor\u001b[0m \u001b[0mt\u001b[0m \u001b[0;32min\u001b[0m \u001b[0ma\u001b[0m\u001b[0;34m]\u001b[0m\u001b[0;34m)\u001b[0m\u001b[0;34m\u001b[0m\u001b[0;34m\u001b[0m\u001b[0m\n\u001b[0m\u001b[1;32m      7\u001b[0m     \u001b[0;32mreturn\u001b[0m \u001b[0;34m[\u001b[0m\u001b[0;34m', '\u001b[0m\u001b[0;34m.\u001b[0m\u001b[0mjoin\u001b[0m\u001b[0;34m(\u001b[0m\u001b[0mt\u001b[0m\u001b[0;34m)\u001b[0m \u001b[0;32mfor\u001b[0m \u001b[0mt\u001b[0m \u001b[0;32min\u001b[0m \u001b[0mtopic_words\u001b[0m\u001b[0;34m]\u001b[0m\u001b[0;34m\u001b[0m\u001b[0;34m\u001b[0m\u001b[0m\n",
            "\u001b[0;32m<ipython-input-70-dba2990f4f1c>\u001b[0m in \u001b[0;36m<listcomp>\u001b[0;34m(.0)\u001b[0m\n\u001b[1;32m      4\u001b[0m \u001b[0;32mdef\u001b[0m \u001b[0mshow_topics\u001b[0m\u001b[0;34m(\u001b[0m\u001b[0ma\u001b[0m\u001b[0;34m)\u001b[0m\u001b[0;34m:\u001b[0m\u001b[0;34m\u001b[0m\u001b[0;34m\u001b[0m\u001b[0m\n\u001b[1;32m      5\u001b[0m     \u001b[0mtop_words\u001b[0m \u001b[0;34m=\u001b[0m \u001b[0;32mlambda\u001b[0m \u001b[0mt\u001b[0m\u001b[0;34m:\u001b[0m \u001b[0;34m[\u001b[0m\u001b[0mvocab\u001b[0m\u001b[0;34m[\u001b[0m\u001b[0mi\u001b[0m\u001b[0;34m]\u001b[0m \u001b[0;32mfor\u001b[0m \u001b[0mi\u001b[0m \u001b[0;32min\u001b[0m \u001b[0mnp\u001b[0m\u001b[0;34m.\u001b[0m\u001b[0margsort\u001b[0m\u001b[0;34m(\u001b[0m\u001b[0mt\u001b[0m\u001b[0;34m)\u001b[0m\u001b[0;34m[\u001b[0m\u001b[0;34m:\u001b[0m\u001b[0;34m-\u001b[0m\u001b[0mnum_top_words\u001b[0m\u001b[0;34m-\u001b[0m\u001b[0;36m1\u001b[0m\u001b[0;34m:\u001b[0m\u001b[0;34m-\u001b[0m\u001b[0;36m1\u001b[0m\u001b[0;34m]\u001b[0m\u001b[0;34m]\u001b[0m\u001b[0;34m\u001b[0m\u001b[0;34m\u001b[0m\u001b[0m\n\u001b[0;32m----> 6\u001b[0;31m     \u001b[0mtopic_words\u001b[0m \u001b[0;34m=\u001b[0m \u001b[0;34m(\u001b[0m\u001b[0;34m[\u001b[0m\u001b[0mtop_words\u001b[0m\u001b[0;34m(\u001b[0m\u001b[0mt\u001b[0m\u001b[0;34m)\u001b[0m \u001b[0;32mfor\u001b[0m \u001b[0mt\u001b[0m \u001b[0;32min\u001b[0m \u001b[0ma\u001b[0m\u001b[0;34m]\u001b[0m\u001b[0;34m)\u001b[0m\u001b[0;34m\u001b[0m\u001b[0;34m\u001b[0m\u001b[0m\n\u001b[0m\u001b[1;32m      7\u001b[0m     \u001b[0;32mreturn\u001b[0m \u001b[0;34m[\u001b[0m\u001b[0;34m', '\u001b[0m\u001b[0;34m.\u001b[0m\u001b[0mjoin\u001b[0m\u001b[0;34m(\u001b[0m\u001b[0mt\u001b[0m\u001b[0;34m)\u001b[0m \u001b[0;32mfor\u001b[0m \u001b[0mt\u001b[0m \u001b[0;32min\u001b[0m \u001b[0mtopic_words\u001b[0m\u001b[0;34m]\u001b[0m\u001b[0;34m\u001b[0m\u001b[0;34m\u001b[0m\u001b[0m\n",
            "\u001b[0;32m<ipython-input-70-dba2990f4f1c>\u001b[0m in \u001b[0;36m<lambda>\u001b[0;34m(t)\u001b[0m\n\u001b[1;32m      3\u001b[0m \u001b[0;34m\u001b[0m\u001b[0m\n\u001b[1;32m      4\u001b[0m \u001b[0;32mdef\u001b[0m \u001b[0mshow_topics\u001b[0m\u001b[0;34m(\u001b[0m\u001b[0ma\u001b[0m\u001b[0;34m)\u001b[0m\u001b[0;34m:\u001b[0m\u001b[0;34m\u001b[0m\u001b[0;34m\u001b[0m\u001b[0m\n\u001b[0;32m----> 5\u001b[0;31m     \u001b[0mtop_words\u001b[0m \u001b[0;34m=\u001b[0m \u001b[0;32mlambda\u001b[0m \u001b[0mt\u001b[0m\u001b[0;34m:\u001b[0m \u001b[0;34m[\u001b[0m\u001b[0mvocab\u001b[0m\u001b[0;34m[\u001b[0m\u001b[0mi\u001b[0m\u001b[0;34m]\u001b[0m \u001b[0;32mfor\u001b[0m \u001b[0mi\u001b[0m \u001b[0;32min\u001b[0m \u001b[0mnp\u001b[0m\u001b[0;34m.\u001b[0m\u001b[0margsort\u001b[0m\u001b[0;34m(\u001b[0m\u001b[0mt\u001b[0m\u001b[0;34m)\u001b[0m\u001b[0;34m[\u001b[0m\u001b[0;34m:\u001b[0m\u001b[0;34m-\u001b[0m\u001b[0mnum_top_words\u001b[0m\u001b[0;34m-\u001b[0m\u001b[0;36m1\u001b[0m\u001b[0;34m:\u001b[0m\u001b[0;34m-\u001b[0m\u001b[0;36m1\u001b[0m\u001b[0;34m]\u001b[0m\u001b[0;34m]\u001b[0m\u001b[0;34m\u001b[0m\u001b[0;34m\u001b[0m\u001b[0m\n\u001b[0m\u001b[1;32m      6\u001b[0m     \u001b[0mtopic_words\u001b[0m \u001b[0;34m=\u001b[0m \u001b[0;34m(\u001b[0m\u001b[0;34m[\u001b[0m\u001b[0mtop_words\u001b[0m\u001b[0;34m(\u001b[0m\u001b[0mt\u001b[0m\u001b[0;34m)\u001b[0m \u001b[0;32mfor\u001b[0m \u001b[0mt\u001b[0m \u001b[0;32min\u001b[0m \u001b[0ma\u001b[0m\u001b[0;34m]\u001b[0m\u001b[0;34m)\u001b[0m\u001b[0;34m\u001b[0m\u001b[0;34m\u001b[0m\u001b[0m\n\u001b[1;32m      7\u001b[0m     \u001b[0;32mreturn\u001b[0m \u001b[0;34m[\u001b[0m\u001b[0;34m', '\u001b[0m\u001b[0;34m.\u001b[0m\u001b[0mjoin\u001b[0m\u001b[0;34m(\u001b[0m\u001b[0mt\u001b[0m\u001b[0;34m)\u001b[0m \u001b[0;32mfor\u001b[0m \u001b[0mt\u001b[0m \u001b[0;32min\u001b[0m \u001b[0mtopic_words\u001b[0m\u001b[0;34m]\u001b[0m\u001b[0;34m\u001b[0m\u001b[0;34m\u001b[0m\u001b[0m\n",
            "\u001b[0;32m<ipython-input-70-dba2990f4f1c>\u001b[0m in \u001b[0;36m<listcomp>\u001b[0;34m(.0)\u001b[0m\n\u001b[1;32m      3\u001b[0m \u001b[0;34m\u001b[0m\u001b[0m\n\u001b[1;32m      4\u001b[0m \u001b[0;32mdef\u001b[0m \u001b[0mshow_topics\u001b[0m\u001b[0;34m(\u001b[0m\u001b[0ma\u001b[0m\u001b[0;34m)\u001b[0m\u001b[0;34m:\u001b[0m\u001b[0;34m\u001b[0m\u001b[0;34m\u001b[0m\u001b[0m\n\u001b[0;32m----> 5\u001b[0;31m     \u001b[0mtop_words\u001b[0m \u001b[0;34m=\u001b[0m \u001b[0;32mlambda\u001b[0m \u001b[0mt\u001b[0m\u001b[0;34m:\u001b[0m \u001b[0;34m[\u001b[0m\u001b[0mvocab\u001b[0m\u001b[0;34m[\u001b[0m\u001b[0mi\u001b[0m\u001b[0;34m]\u001b[0m \u001b[0;32mfor\u001b[0m \u001b[0mi\u001b[0m \u001b[0;32min\u001b[0m \u001b[0mnp\u001b[0m\u001b[0;34m.\u001b[0m\u001b[0margsort\u001b[0m\u001b[0;34m(\u001b[0m\u001b[0mt\u001b[0m\u001b[0;34m)\u001b[0m\u001b[0;34m[\u001b[0m\u001b[0;34m:\u001b[0m\u001b[0;34m-\u001b[0m\u001b[0mnum_top_words\u001b[0m\u001b[0;34m-\u001b[0m\u001b[0;36m1\u001b[0m\u001b[0;34m:\u001b[0m\u001b[0;34m-\u001b[0m\u001b[0;36m1\u001b[0m\u001b[0;34m]\u001b[0m\u001b[0;34m]\u001b[0m\u001b[0;34m\u001b[0m\u001b[0;34m\u001b[0m\u001b[0m\n\u001b[0m\u001b[1;32m      6\u001b[0m     \u001b[0mtopic_words\u001b[0m \u001b[0;34m=\u001b[0m \u001b[0;34m(\u001b[0m\u001b[0;34m[\u001b[0m\u001b[0mtop_words\u001b[0m\u001b[0;34m(\u001b[0m\u001b[0mt\u001b[0m\u001b[0;34m)\u001b[0m \u001b[0;32mfor\u001b[0m \u001b[0mt\u001b[0m \u001b[0;32min\u001b[0m \u001b[0ma\u001b[0m\u001b[0;34m]\u001b[0m\u001b[0;34m)\u001b[0m\u001b[0;34m\u001b[0m\u001b[0;34m\u001b[0m\u001b[0m\n\u001b[1;32m      7\u001b[0m     \u001b[0;32mreturn\u001b[0m \u001b[0;34m[\u001b[0m\u001b[0;34m', '\u001b[0m\u001b[0;34m.\u001b[0m\u001b[0mjoin\u001b[0m\u001b[0;34m(\u001b[0m\u001b[0mt\u001b[0m\u001b[0;34m)\u001b[0m \u001b[0;32mfor\u001b[0m \u001b[0mt\u001b[0m \u001b[0;32min\u001b[0m \u001b[0mtopic_words\u001b[0m\u001b[0;34m]\u001b[0m\u001b[0;34m\u001b[0m\u001b[0;34m\u001b[0m\u001b[0m\n",
            "\u001b[0;31mIndexError\u001b[0m: index 45576 is out of bounds for axis 0 with size 41565"
          ]
        }
      ]
    }
  ]
}